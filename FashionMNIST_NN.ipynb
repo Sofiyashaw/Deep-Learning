{
  "cells": [
    {
      "cell_type": "markdown",
      "metadata": {
        "id": "HRKLNnx9Pa53"
      },
      "source": [
        "## Fashion MNIST\n"
      ]
    },
    {
      "cell_type": "markdown",
      "metadata": {
        "id": "_uZGTvf1dMrc"
      },
      "source": [
        "#Multi Layer Perceptron"
      ]
    },
    {
      "cell_type": "markdown",
      "metadata": {
        "id": "-Jcmb7lmPTdN"
      },
      "source": [
        "Unzip the csv file"
      ]
    },
    {
      "cell_type": "code",
      "execution_count": null,
      "metadata": {
        "colab": {
          "base_uri": "https://localhost:8080/"
        },
        "id": "53L-BlGnICii",
        "outputId": "794953b6-db2a-41c2-eea3-e720592e53bc"
      },
      "outputs": [
        {
          "output_type": "stream",
          "name": "stdout",
          "text": [
            "Archive:  /content/Fashion MNIST.zip\n",
            "replace fashion-mnist_test.csv? [y]es, [n]o, [A]ll, [N]one, [r]ename: "
          ]
        }
      ],
      "source": [
        "!unzip '/content/Fashion MNIST.zip'\n",
        "[n]\n"
      ]
    },
    {
      "cell_type": "markdown",
      "metadata": {
        "id": "i9ljGwvFPWtI"
      },
      "source": [
        "* Load the data\n",
        "* Import the libraries"
      ]
    },
    {
      "cell_type": "code",
      "execution_count": 23,
      "metadata": {
        "id": "u3RhoMdLLng1"
      },
      "outputs": [],
      "source": [
        "import numpy as np\n",
        "import pandas as pd\n",
        "import matplotlib.pyplot as plt\n",
        "import seaborn as sns\n",
        "from sklearn.model_selection import train_test_split\n",
        "from sklearn.metrics import accuracy_score,confusion_matrix,classification_report"
      ]
    },
    {
      "cell_type": "code",
      "execution_count": 25,
      "metadata": {
        "id": "6qknf5PhLUo6"
      },
      "outputs": [],
      "source": [
        "train = pd.read_csv('/content/fashion-mnist_train.csv')\n",
        "test = pd.read_csv('/content/fashion-mnist_test.csv')"
      ]
    },
    {
      "cell_type": "markdown",
      "metadata": {
        "id": "sw8fSW9cQOf-"
      },
      "source": [
        "MLP Classifier"
      ]
    },
    {
      "cell_type": "code",
      "execution_count": null,
      "metadata": {
        "id": "LBPFTMUcM_Fp"
      },
      "outputs": [],
      "source": [
        "from sklearn.neural_network import MLPClassifier"
      ]
    },
    {
      "cell_type": "code",
      "execution_count": null,
      "metadata": {
        "id": "L0Q_GB4YOG1N"
      },
      "outputs": [],
      "source": [
        "x = train.drop('label',axis = 1)\n",
        "y = train['label']"
      ]
    },
    {
      "cell_type": "code",
      "execution_count": null,
      "metadata": {
        "id": "JZ3IrkIXNncD"
      },
      "outputs": [],
      "source": [
        "x_train , x_test , y_train , y_test = train_test_split(x,y , test_size = 0.2 , random_state = 123)"
      ]
    },
    {
      "cell_type": "code",
      "execution_count": null,
      "metadata": {
        "id": "6-GtmTjKQJ_n"
      },
      "outputs": [],
      "source": [
        "def model_eval(actual,predicted):\n",
        "  conf_matrix = confusion_matrix(actual,predicted)\n",
        "  class_report = classification_report(actual,predicted)\n",
        "  acc_score = accuracy_score(actual,predicted)\n",
        "  print(round(acc_score,2))\n",
        "  print(class_report)\n",
        "  print(conf_matrix)"
      ]
    },
    {
      "cell_type": "code",
      "execution_count": 9,
      "metadata": {
        "colab": {
          "base_uri": "https://localhost:8080/",
          "height": 1000
        },
        "id": "N_gNXx_zNJzR",
        "outputId": "a746539c-a4d6-4f6a-d16c-5c053dcbb1b2"
      },
      "outputs": [
        {
          "output_type": "stream",
          "name": "stdout",
          "text": [
            "Iteration 1, loss = 2.60098177\n",
            "Iteration 2, loss = 0.72331256\n",
            "Iteration 3, loss = 0.59342980\n",
            "Iteration 4, loss = 0.53215677\n",
            "Iteration 5, loss = 0.48334242\n",
            "Iteration 6, loss = 0.45461304\n",
            "Iteration 7, loss = 0.43142469\n",
            "Iteration 8, loss = 0.42017151\n",
            "Iteration 9, loss = 0.40041187\n",
            "Iteration 10, loss = 0.39245965\n",
            "Iteration 11, loss = 0.37796074\n",
            "Iteration 12, loss = 0.37314505\n",
            "Iteration 13, loss = 0.36754031\n",
            "Iteration 14, loss = 0.36451711\n",
            "Iteration 15, loss = 0.36327486\n",
            "Iteration 16, loss = 0.34666544\n",
            "Iteration 17, loss = 0.34294634\n",
            "Iteration 18, loss = 0.33086410\n",
            "Iteration 19, loss = 0.34254179\n",
            "Iteration 20, loss = 0.32573463\n",
            "Iteration 21, loss = 0.32571811\n",
            "Iteration 22, loss = 0.31512881\n",
            "Iteration 23, loss = 0.31630397\n",
            "Iteration 24, loss = 0.31205375\n",
            "Iteration 25, loss = 0.31160782\n",
            "Iteration 26, loss = 0.30586170\n",
            "Iteration 27, loss = 0.29749988\n",
            "Iteration 28, loss = 0.29832119\n",
            "Iteration 29, loss = 0.29837811\n",
            "Iteration 30, loss = 0.29148997\n",
            "Iteration 31, loss = 0.29556415\n",
            "Iteration 32, loss = 0.28513632\n",
            "Iteration 33, loss = 0.28009148\n",
            "Iteration 34, loss = 0.28206606\n",
            "Iteration 35, loss = 0.27063266\n",
            "Iteration 36, loss = 0.27508025\n",
            "Iteration 37, loss = 0.26442536\n",
            "Iteration 38, loss = 0.27518886\n",
            "Iteration 39, loss = 0.27438041\n",
            "Iteration 40, loss = 0.27119289\n",
            "Iteration 41, loss = 0.26644513\n",
            "Iteration 42, loss = 0.25764827\n",
            "Iteration 43, loss = 0.25998297\n",
            "Iteration 44, loss = 0.26290923\n",
            "Iteration 45, loss = 0.25707223\n",
            "Iteration 46, loss = 0.24474283\n",
            "Iteration 47, loss = 0.25036496\n",
            "Iteration 48, loss = 0.25485617\n",
            "Iteration 49, loss = 0.24181940\n",
            "Iteration 50, loss = 0.24477837\n",
            "Iteration 51, loss = 0.24135362\n",
            "Iteration 52, loss = 0.23560199\n",
            "Iteration 53, loss = 0.23731987\n",
            "Iteration 54, loss = 0.23591439\n",
            "Iteration 55, loss = 0.23707292\n",
            "Iteration 56, loss = 0.23536894\n",
            "Iteration 57, loss = 0.23350582\n",
            "Iteration 58, loss = 0.22456552\n",
            "Iteration 59, loss = 0.22627229\n",
            "Iteration 60, loss = 0.22746878\n",
            "Iteration 61, loss = 0.22485072\n",
            "Iteration 62, loss = 0.22516187\n",
            "Iteration 63, loss = 0.22188451\n",
            "Iteration 64, loss = 0.21827911\n",
            "Iteration 65, loss = 0.22864793\n",
            "Iteration 66, loss = 0.21559058\n",
            "Iteration 67, loss = 0.21581380\n",
            "Iteration 68, loss = 0.21818514\n",
            "Iteration 69, loss = 0.21072695\n",
            "Iteration 70, loss = 0.21342964\n",
            "Iteration 71, loss = 0.20790052\n",
            "Iteration 72, loss = 0.21172833\n",
            "Iteration 73, loss = 0.20321246\n",
            "Iteration 74, loss = 0.20055238\n",
            "Iteration 75, loss = 0.20856230\n",
            "Iteration 76, loss = 0.20017526\n",
            "Iteration 77, loss = 0.20805988\n",
            "Iteration 78, loss = 0.20628159\n",
            "Iteration 79, loss = 0.20048461\n",
            "Iteration 80, loss = 0.19690366\n",
            "Iteration 81, loss = 0.20197354\n",
            "Iteration 82, loss = 0.19750534\n",
            "Iteration 83, loss = 0.19930080\n",
            "Iteration 84, loss = 0.18849369\n",
            "Iteration 85, loss = 0.19510805\n",
            "Iteration 86, loss = 0.19500286\n",
            "Iteration 87, loss = 0.19201445\n",
            "Iteration 88, loss = 0.18863814\n",
            "Iteration 89, loss = 0.19225121\n",
            "Iteration 90, loss = 0.18662096\n",
            "Iteration 91, loss = 0.18154868\n",
            "Iteration 92, loss = 0.18700974\n",
            "Iteration 93, loss = 0.18477624\n",
            "Iteration 94, loss = 0.19019955\n",
            "Iteration 95, loss = 0.18269095\n",
            "Iteration 96, loss = 0.18099445\n",
            "Iteration 97, loss = 0.18063223\n",
            "Iteration 98, loss = 0.18322718\n",
            "Iteration 99, loss = 0.17637601\n",
            "Iteration 100, loss = 0.18251520\n",
            "Iteration 101, loss = 0.18153301\n",
            "Iteration 102, loss = 0.17479058\n",
            "Iteration 103, loss = 0.17987599\n",
            "Iteration 104, loss = 0.18343404\n",
            "Iteration 105, loss = 0.17647217\n",
            "Iteration 106, loss = 0.18095343\n",
            "Iteration 107, loss = 0.18138548\n",
            "Iteration 108, loss = 0.16920012\n",
            "Iteration 109, loss = 0.16415115\n",
            "Iteration 110, loss = 0.16670374\n",
            "Iteration 111, loss = 0.16730122\n",
            "Iteration 112, loss = 0.17642721\n",
            "Iteration 113, loss = 0.17185861\n",
            "Iteration 114, loss = 0.16725202\n",
            "Iteration 115, loss = 0.16816984\n",
            "Iteration 116, loss = 0.16883001\n",
            "Iteration 117, loss = 0.15911996\n",
            "Iteration 118, loss = 0.16442882\n",
            "Iteration 119, loss = 0.17435256\n",
            "Iteration 120, loss = 0.16856327\n",
            "Iteration 121, loss = 0.16529040\n",
            "Iteration 122, loss = 0.16068560\n",
            "Iteration 123, loss = 0.16702714\n",
            "Iteration 124, loss = 0.15735248\n",
            "Iteration 125, loss = 0.16728687\n",
            "Iteration 126, loss = 0.16508632\n",
            "Iteration 127, loss = 0.15989977\n",
            "Iteration 128, loss = 0.16001293\n",
            "Iteration 129, loss = 0.15601015\n",
            "Iteration 130, loss = 0.15691586\n",
            "Iteration 131, loss = 0.16384271\n",
            "Iteration 132, loss = 0.16173803\n",
            "Iteration 133, loss = 0.15888001\n",
            "Iteration 134, loss = 0.14989947\n",
            "Iteration 135, loss = 0.15945242\n",
            "Iteration 136, loss = 0.16360136\n",
            "Iteration 137, loss = 0.16109086\n",
            "Iteration 138, loss = 0.16056362\n",
            "Iteration 139, loss = 0.15004441\n",
            "Iteration 140, loss = 0.15161630\n",
            "Iteration 141, loss = 0.15563088\n",
            "Iteration 142, loss = 0.14748901\n",
            "Iteration 143, loss = 0.15828396\n",
            "Iteration 144, loss = 0.14541777\n",
            "Iteration 145, loss = 0.15975195\n",
            "Iteration 146, loss = 0.15059357\n",
            "Iteration 147, loss = 0.15505341\n",
            "Iteration 148, loss = 0.14539881\n",
            "Iteration 149, loss = 0.15122957\n",
            "Iteration 150, loss = 0.15508987\n",
            "Iteration 151, loss = 0.14737389\n",
            "Iteration 152, loss = 0.14987378\n",
            "Iteration 153, loss = 0.15214100\n",
            "Iteration 154, loss = 0.14501929\n",
            "Iteration 155, loss = 0.14461726\n",
            "Iteration 156, loss = 0.14170423\n",
            "Iteration 157, loss = 0.15060573\n",
            "Iteration 158, loss = 0.14645967\n",
            "Iteration 159, loss = 0.15166136\n",
            "Iteration 160, loss = 0.14811309\n",
            "Iteration 161, loss = 0.14626794\n",
            "Iteration 162, loss = 0.13447219\n",
            "Iteration 163, loss = 0.15212408\n",
            "Iteration 164, loss = 0.14169629\n",
            "Iteration 165, loss = 0.13812193\n",
            "Iteration 166, loss = 0.14243925\n",
            "Iteration 167, loss = 0.13969992\n",
            "Iteration 168, loss = 0.13536020\n",
            "Iteration 169, loss = 0.13773489\n",
            "Iteration 170, loss = 0.15402156\n",
            "Iteration 171, loss = 0.14495696\n",
            "Iteration 172, loss = 0.14673132\n",
            "Iteration 173, loss = 0.13412587\n",
            "Iteration 174, loss = 0.12840459\n",
            "Iteration 175, loss = 0.15267500\n",
            "Iteration 176, loss = 0.13577212\n",
            "Iteration 177, loss = 0.14234350\n",
            "Iteration 178, loss = 0.14887585\n",
            "Iteration 179, loss = 0.13746651\n",
            "Iteration 180, loss = 0.14380177\n",
            "Iteration 181, loss = 0.14350949\n",
            "Iteration 182, loss = 0.13289701\n",
            "Iteration 183, loss = 0.13324939\n",
            "Iteration 184, loss = 0.13264407\n",
            "Iteration 185, loss = 0.13611958\n",
            "Training loss did not improve more than tol=0.000100 for 10 consecutive epochs. Stopping.\n"
          ]
        },
        {
          "output_type": "execute_result",
          "data": {
            "text/plain": [
              "MLPClassifier(hidden_layer_sizes=(64, 64, 64), random_state=10, verbose=1)"
            ],
            "text/html": [
              "<style>#sk-container-id-1 {color: black;}#sk-container-id-1 pre{padding: 0;}#sk-container-id-1 div.sk-toggleable {background-color: white;}#sk-container-id-1 label.sk-toggleable__label {cursor: pointer;display: block;width: 100%;margin-bottom: 0;padding: 0.3em;box-sizing: border-box;text-align: center;}#sk-container-id-1 label.sk-toggleable__label-arrow:before {content: \"▸\";float: left;margin-right: 0.25em;color: #696969;}#sk-container-id-1 label.sk-toggleable__label-arrow:hover:before {color: black;}#sk-container-id-1 div.sk-estimator:hover label.sk-toggleable__label-arrow:before {color: black;}#sk-container-id-1 div.sk-toggleable__content {max-height: 0;max-width: 0;overflow: hidden;text-align: left;background-color: #f0f8ff;}#sk-container-id-1 div.sk-toggleable__content pre {margin: 0.2em;color: black;border-radius: 0.25em;background-color: #f0f8ff;}#sk-container-id-1 input.sk-toggleable__control:checked~div.sk-toggleable__content {max-height: 200px;max-width: 100%;overflow: auto;}#sk-container-id-1 input.sk-toggleable__control:checked~label.sk-toggleable__label-arrow:before {content: \"▾\";}#sk-container-id-1 div.sk-estimator input.sk-toggleable__control:checked~label.sk-toggleable__label {background-color: #d4ebff;}#sk-container-id-1 div.sk-label input.sk-toggleable__control:checked~label.sk-toggleable__label {background-color: #d4ebff;}#sk-container-id-1 input.sk-hidden--visually {border: 0;clip: rect(1px 1px 1px 1px);clip: rect(1px, 1px, 1px, 1px);height: 1px;margin: -1px;overflow: hidden;padding: 0;position: absolute;width: 1px;}#sk-container-id-1 div.sk-estimator {font-family: monospace;background-color: #f0f8ff;border: 1px dotted black;border-radius: 0.25em;box-sizing: border-box;margin-bottom: 0.5em;}#sk-container-id-1 div.sk-estimator:hover {background-color: #d4ebff;}#sk-container-id-1 div.sk-parallel-item::after {content: \"\";width: 100%;border-bottom: 1px solid gray;flex-grow: 1;}#sk-container-id-1 div.sk-label:hover label.sk-toggleable__label {background-color: #d4ebff;}#sk-container-id-1 div.sk-serial::before {content: \"\";position: absolute;border-left: 1px solid gray;box-sizing: border-box;top: 0;bottom: 0;left: 50%;z-index: 0;}#sk-container-id-1 div.sk-serial {display: flex;flex-direction: column;align-items: center;background-color: white;padding-right: 0.2em;padding-left: 0.2em;position: relative;}#sk-container-id-1 div.sk-item {position: relative;z-index: 1;}#sk-container-id-1 div.sk-parallel {display: flex;align-items: stretch;justify-content: center;background-color: white;position: relative;}#sk-container-id-1 div.sk-item::before, #sk-container-id-1 div.sk-parallel-item::before {content: \"\";position: absolute;border-left: 1px solid gray;box-sizing: border-box;top: 0;bottom: 0;left: 50%;z-index: -1;}#sk-container-id-1 div.sk-parallel-item {display: flex;flex-direction: column;z-index: 1;position: relative;background-color: white;}#sk-container-id-1 div.sk-parallel-item:first-child::after {align-self: flex-end;width: 50%;}#sk-container-id-1 div.sk-parallel-item:last-child::after {align-self: flex-start;width: 50%;}#sk-container-id-1 div.sk-parallel-item:only-child::after {width: 0;}#sk-container-id-1 div.sk-dashed-wrapped {border: 1px dashed gray;margin: 0 0.4em 0.5em 0.4em;box-sizing: border-box;padding-bottom: 0.4em;background-color: white;}#sk-container-id-1 div.sk-label label {font-family: monospace;font-weight: bold;display: inline-block;line-height: 1.2em;}#sk-container-id-1 div.sk-label-container {text-align: center;}#sk-container-id-1 div.sk-container {/* jupyter's `normalize.less` sets `[hidden] { display: none; }` but bootstrap.min.css set `[hidden] { display: none !important; }` so we also need the `!important` here to be able to override the default hidden behavior on the sphinx rendered scikit-learn.org. See: https://github.com/scikit-learn/scikit-learn/issues/21755 */display: inline-block !important;position: relative;}#sk-container-id-1 div.sk-text-repr-fallback {display: none;}</style><div id=\"sk-container-id-1\" class=\"sk-top-container\"><div class=\"sk-text-repr-fallback\"><pre>MLPClassifier(hidden_layer_sizes=(64, 64, 64), random_state=10, verbose=1)</pre><b>In a Jupyter environment, please rerun this cell to show the HTML representation or trust the notebook. <br />On GitHub, the HTML representation is unable to render, please try loading this page with nbviewer.org.</b></div><div class=\"sk-container\" hidden><div class=\"sk-item\"><div class=\"sk-estimator sk-toggleable\"><input class=\"sk-toggleable__control sk-hidden--visually\" id=\"sk-estimator-id-1\" type=\"checkbox\" checked><label for=\"sk-estimator-id-1\" class=\"sk-toggleable__label sk-toggleable__label-arrow\">MLPClassifier</label><div class=\"sk-toggleable__content\"><pre>MLPClassifier(hidden_layer_sizes=(64, 64, 64), random_state=10, verbose=1)</pre></div></div></div></div></div>"
            ]
          },
          "metadata": {},
          "execution_count": 9
        }
      ],
      "source": [
        "mlp = MLPClassifier ( hidden_layer_sizes=(64,64,64) , random_state = 10 , verbose = 1 )\n",
        "mlp.fit(x_train,y_train)"
      ]
    },
    {
      "cell_type": "code",
      "execution_count": 10,
      "metadata": {
        "id": "kwXwbtE3QitW"
      },
      "outputs": [],
      "source": [
        "y_hat_train_mlp = mlp.predict(x_train)\n",
        "y_hat_test_mlp = mlp.predict(x_test)"
      ]
    },
    {
      "cell_type": "code",
      "execution_count": 11,
      "metadata": {
        "id": "GkoV56fTQgL7",
        "colab": {
          "base_uri": "https://localhost:8080/"
        },
        "outputId": "eddf29e5-7b42-41f2-f8db-93bc76348d6f"
      },
      "outputs": [
        {
          "output_type": "stream",
          "name": "stdout",
          "text": [
            "0.95\n",
            "              precision    recall  f1-score   support\n",
            "\n",
            "           0       0.91      0.94      0.92      4860\n",
            "           1       1.00      0.99      1.00      4759\n",
            "           2       0.88      0.91      0.89      4788\n",
            "           3       0.98      0.94      0.96      4851\n",
            "           4       0.89      0.91      0.90      4850\n",
            "           5       1.00      0.99      1.00      4776\n",
            "           6       0.88      0.84      0.86      4792\n",
            "           7       0.99      0.99      0.99      4773\n",
            "           8       0.99      1.00      0.99      4776\n",
            "           9       0.99      1.00      0.99      4775\n",
            "\n",
            "    accuracy                           0.95     48000\n",
            "   macro avg       0.95      0.95      0.95     48000\n",
            "weighted avg       0.95      0.95      0.95     48000\n",
            "\n",
            "[[4571    0   22   15    8    0  234    0   10    0]\n",
            " [   9 4728    3    8    3    0    8    0    0    0]\n",
            " [  50    0 4354   10  219    0  147    0    8    0]\n",
            " [ 115    1   19 4546  103    1   64    0    2    0]\n",
            " [   8    2  297   44 4398    0   90    0   11    0]\n",
            " [   0    0    0    0    0 4737    0   32    1    6]\n",
            " [ 275    0  253   32  212    0 4005    0   15    0]\n",
            " [   0    0    0    0    0    3    0 4716    0   54]\n",
            " [   1    0    2    0    0    0    9    0 4764    0]\n",
            " [   0    0    0    0    0    1    0    8    0 4766]]\n"
          ]
        }
      ],
      "source": [
        "model_eval(y_train , y_hat_train_mlp)"
      ]
    },
    {
      "cell_type": "code",
      "execution_count": 12,
      "metadata": {
        "id": "NrmpCebAUsrT",
        "colab": {
          "base_uri": "https://localhost:8080/"
        },
        "outputId": "c72d5d49-116a-4316-e3c7-ad0c071f6ae9"
      },
      "outputs": [
        {
          "output_type": "stream",
          "name": "stdout",
          "text": [
            "0.87\n",
            "              precision    recall  f1-score   support\n",
            "\n",
            "           0       0.76      0.83      0.80      1140\n",
            "           1       0.98      0.96      0.97      1241\n",
            "           2       0.77      0.80      0.79      1212\n",
            "           3       0.90      0.83      0.86      1149\n",
            "           4       0.78      0.79      0.79      1150\n",
            "           5       0.98      0.95      0.97      1224\n",
            "           6       0.70      0.65      0.67      1208\n",
            "           7       0.94      0.94      0.94      1227\n",
            "           8       0.95      0.97      0.96      1224\n",
            "           9       0.93      0.96      0.95      1225\n",
            "\n",
            "    accuracy                           0.87     12000\n",
            "   macro avg       0.87      0.87      0.87     12000\n",
            "weighted avg       0.87      0.87      0.87     12000\n",
            "\n",
            "[[ 950    5   21   14    3    1  137    0    9    0]\n",
            " [   7 1195    7   18    7    0    4    0    2    1]\n",
            " [  24    1  971   15  109    1   84    0    7    0]\n",
            " [  69   17   15  957   53    1   31    0    4    2]\n",
            " [   8    2  123   35  912    1   61    0    8    0]\n",
            " [   0    1    0    0    0 1168    0   28    9   18]\n",
            " [ 175    1  117   21   87    0  781    0   26    0]\n",
            " [   2    0    0    1    0   12    1 1148    3   60]\n",
            " [   8    0    5    4    0    2   13    4 1187    1]\n",
            " [   0    2    0    1    0    6    0   43    1 1172]]\n"
          ]
        }
      ],
      "source": [
        "model_eval(y_test,y_hat_test_mlp)"
      ]
    },
    {
      "cell_type": "markdown",
      "metadata": {
        "id": "HFZ-UNZgdEaI"
      },
      "source": [
        "# Keras"
      ]
    },
    {
      "cell_type": "markdown",
      "metadata": {
        "id": "JiMNU2YTdbbT"
      },
      "source": [
        "* Import the libraries"
      ]
    },
    {
      "cell_type": "code",
      "execution_count": 13,
      "metadata": {
        "id": "BKutwMfoddZI"
      },
      "outputs": [],
      "source": [
        "from keras.models import Sequential\n",
        "from keras.layers import Dense,Dropout\n",
        "from keras.optimizers import SGD,Adam\n",
        "from keras.utils import to_categorical"
      ]
    },
    {
      "cell_type": "markdown",
      "metadata": {
        "id": "FEkckiPkfrk2"
      },
      "source": [
        "One hot encode"
      ]
    },
    {
      "cell_type": "code",
      "execution_count": 14,
      "metadata": {
        "id": "tR76gRoYfQ5M"
      },
      "outputs": [],
      "source": [
        "y_train_ohe = to_categorical(y_train)\n",
        "y_test_ohe = to_categorical(y_test)"
      ]
    },
    {
      "cell_type": "code",
      "execution_count": 15,
      "metadata": {
        "id": "7y6OOg-nfuPa",
        "colab": {
          "base_uri": "https://localhost:8080/"
        },
        "outputId": "46628108-c720-4573-d48a-0aefd3b83f31"
      },
      "outputs": [
        {
          "output_type": "execute_result",
          "data": {
            "text/plain": [
              "array([[0., 0., 0., ..., 1., 0., 0.],\n",
              "       [0., 0., 0., ..., 0., 0., 0.],\n",
              "       [0., 0., 0., ..., 1., 0., 0.],\n",
              "       ...,\n",
              "       [0., 0., 0., ..., 0., 0., 1.],\n",
              "       [0., 0., 1., ..., 0., 0., 0.],\n",
              "       [0., 0., 0., ..., 0., 1., 0.]])"
            ]
          },
          "metadata": {},
          "execution_count": 15
        }
      ],
      "source": [
        "y_train_ohe"
      ]
    },
    {
      "cell_type": "code",
      "execution_count": 16,
      "metadata": {
        "id": "Q_rLYdN3fweo",
        "colab": {
          "base_uri": "https://localhost:8080/"
        },
        "outputId": "2e8d6d34-e4da-4711-9ca5-d4316f8a4fb9"
      },
      "outputs": [
        {
          "output_type": "execute_result",
          "data": {
            "text/plain": [
              "array([[0., 0., 1., ..., 0., 0., 0.],\n",
              "       [0., 0., 0., ..., 0., 0., 0.],\n",
              "       [0., 1., 0., ..., 0., 0., 0.],\n",
              "       ...,\n",
              "       [0., 0., 1., ..., 0., 0., 0.],\n",
              "       [0., 0., 1., ..., 0., 0., 0.],\n",
              "       [1., 0., 0., ..., 0., 0., 0.]])"
            ]
          },
          "metadata": {},
          "execution_count": 16
        }
      ],
      "source": [
        "y_test_ohe"
      ]
    },
    {
      "cell_type": "markdown",
      "metadata": {
        "id": "cx3umYohg13H"
      },
      "source": [
        "* Declare the model\n",
        "* DEclare the layers"
      ]
    },
    {
      "cell_type": "code",
      "execution_count": 17,
      "metadata": {
        "id": "5qGD8McFg6EP"
      },
      "outputs": [],
      "source": [
        "model = Sequential()"
      ]
    },
    {
      "cell_type": "code",
      "execution_count": 18,
      "metadata": {
        "id": "-o-1LE4Bg9N0",
        "colab": {
          "base_uri": "https://localhost:8080/"
        },
        "outputId": "1b67abf3-c6b6-4088-fb60-525fa80c4448"
      },
      "outputs": [
        {
          "output_type": "stream",
          "name": "stderr",
          "text": [
            "/usr/local/lib/python3.10/dist-packages/keras/src/layers/core/dense.py:87: UserWarning: Do not pass an `input_shape`/`input_dim` argument to a layer. When using Sequential models, prefer using an `Input(shape)` object as the first layer in the model instead.\n",
            "  super().__init__(activity_regularizer=activity_regularizer, **kwargs)\n"
          ]
        }
      ],
      "source": [
        "model.add(Dense(64,activation='relu',input_shape=(784,)))\n",
        "model.add(Dense(64,activation='relu'))\n",
        "model.add(Dense(64,activation='relu'))\n",
        "model.add(Dense(10,activation='softmax'))"
      ]
    },
    {
      "cell_type": "code",
      "execution_count": 19,
      "metadata": {
        "id": "A_lKTDtzhtqH",
        "colab": {
          "base_uri": "https://localhost:8080/",
          "height": 257
        },
        "outputId": "0a3a96d8-3386-4dcf-8d44-1ac7bf691351"
      },
      "outputs": [
        {
          "output_type": "display_data",
          "data": {
            "text/plain": [
              "\u001b[1mModel: \"sequential\"\u001b[0m\n"
            ],
            "text/html": [
              "<pre style=\"white-space:pre;overflow-x:auto;line-height:normal;font-family:Menlo,'DejaVu Sans Mono',consolas,'Courier New',monospace\"><span style=\"font-weight: bold\">Model: \"sequential\"</span>\n",
              "</pre>\n"
            ]
          },
          "metadata": {}
        },
        {
          "output_type": "display_data",
          "data": {
            "text/plain": [
              "┏━━━━━━━━━━━━━━━━━━━━━━━━━━━━━━━━━━━━━━┳━━━━━━━━━━━━━━━━━━━━━━━━━━━━━┳━━━━━━━━━━━━━━━━━┓\n",
              "┃\u001b[1m \u001b[0m\u001b[1mLayer (type)                        \u001b[0m\u001b[1m \u001b[0m┃\u001b[1m \u001b[0m\u001b[1mOutput Shape               \u001b[0m\u001b[1m \u001b[0m┃\u001b[1m \u001b[0m\u001b[1m        Param #\u001b[0m\u001b[1m \u001b[0m┃\n",
              "┡━━━━━━━━━━━━━━━━━━━━━━━━━━━━━━━━━━━━━━╇━━━━━━━━━━━━━━━━━━━━━━━━━━━━━╇━━━━━━━━━━━━━━━━━┩\n",
              "│ dense (\u001b[38;5;33mDense\u001b[0m)                        │ (\u001b[38;5;45mNone\u001b[0m, \u001b[38;5;34m64\u001b[0m)                  │          \u001b[38;5;34m50,240\u001b[0m │\n",
              "├──────────────────────────────────────┼─────────────────────────────┼─────────────────┤\n",
              "│ dense_1 (\u001b[38;5;33mDense\u001b[0m)                      │ (\u001b[38;5;45mNone\u001b[0m, \u001b[38;5;34m64\u001b[0m)                  │           \u001b[38;5;34m4,160\u001b[0m │\n",
              "├──────────────────────────────────────┼─────────────────────────────┼─────────────────┤\n",
              "│ dense_2 (\u001b[38;5;33mDense\u001b[0m)                      │ (\u001b[38;5;45mNone\u001b[0m, \u001b[38;5;34m64\u001b[0m)                  │           \u001b[38;5;34m4,160\u001b[0m │\n",
              "├──────────────────────────────────────┼─────────────────────────────┼─────────────────┤\n",
              "│ dense_3 (\u001b[38;5;33mDense\u001b[0m)                      │ (\u001b[38;5;45mNone\u001b[0m, \u001b[38;5;34m10\u001b[0m)                  │             \u001b[38;5;34m650\u001b[0m │\n",
              "└──────────────────────────────────────┴─────────────────────────────┴─────────────────┘\n"
            ],
            "text/html": [
              "<pre style=\"white-space:pre;overflow-x:auto;line-height:normal;font-family:Menlo,'DejaVu Sans Mono',consolas,'Courier New',monospace\">┏━━━━━━━━━━━━━━━━━━━━━━━━━━━━━━━━━━━━━━┳━━━━━━━━━━━━━━━━━━━━━━━━━━━━━┳━━━━━━━━━━━━━━━━━┓\n",
              "┃<span style=\"font-weight: bold\"> Layer (type)                         </span>┃<span style=\"font-weight: bold\"> Output Shape                </span>┃<span style=\"font-weight: bold\">         Param # </span>┃\n",
              "┡━━━━━━━━━━━━━━━━━━━━━━━━━━━━━━━━━━━━━━╇━━━━━━━━━━━━━━━━━━━━━━━━━━━━━╇━━━━━━━━━━━━━━━━━┩\n",
              "│ dense (<span style=\"color: #0087ff; text-decoration-color: #0087ff\">Dense</span>)                        │ (<span style=\"color: #00d7ff; text-decoration-color: #00d7ff\">None</span>, <span style=\"color: #00af00; text-decoration-color: #00af00\">64</span>)                  │          <span style=\"color: #00af00; text-decoration-color: #00af00\">50,240</span> │\n",
              "├──────────────────────────────────────┼─────────────────────────────┼─────────────────┤\n",
              "│ dense_1 (<span style=\"color: #0087ff; text-decoration-color: #0087ff\">Dense</span>)                      │ (<span style=\"color: #00d7ff; text-decoration-color: #00d7ff\">None</span>, <span style=\"color: #00af00; text-decoration-color: #00af00\">64</span>)                  │           <span style=\"color: #00af00; text-decoration-color: #00af00\">4,160</span> │\n",
              "├──────────────────────────────────────┼─────────────────────────────┼─────────────────┤\n",
              "│ dense_2 (<span style=\"color: #0087ff; text-decoration-color: #0087ff\">Dense</span>)                      │ (<span style=\"color: #00d7ff; text-decoration-color: #00d7ff\">None</span>, <span style=\"color: #00af00; text-decoration-color: #00af00\">64</span>)                  │           <span style=\"color: #00af00; text-decoration-color: #00af00\">4,160</span> │\n",
              "├──────────────────────────────────────┼─────────────────────────────┼─────────────────┤\n",
              "│ dense_3 (<span style=\"color: #0087ff; text-decoration-color: #0087ff\">Dense</span>)                      │ (<span style=\"color: #00d7ff; text-decoration-color: #00d7ff\">None</span>, <span style=\"color: #00af00; text-decoration-color: #00af00\">10</span>)                  │             <span style=\"color: #00af00; text-decoration-color: #00af00\">650</span> │\n",
              "└──────────────────────────────────────┴─────────────────────────────┴─────────────────┘\n",
              "</pre>\n"
            ]
          },
          "metadata": {}
        },
        {
          "output_type": "display_data",
          "data": {
            "text/plain": [
              "\u001b[1m Total params: \u001b[0m\u001b[38;5;34m59,210\u001b[0m (231.29 KB)\n"
            ],
            "text/html": [
              "<pre style=\"white-space:pre;overflow-x:auto;line-height:normal;font-family:Menlo,'DejaVu Sans Mono',consolas,'Courier New',monospace\"><span style=\"font-weight: bold\"> Total params: </span><span style=\"color: #00af00; text-decoration-color: #00af00\">59,210</span> (231.29 KB)\n",
              "</pre>\n"
            ]
          },
          "metadata": {}
        },
        {
          "output_type": "display_data",
          "data": {
            "text/plain": [
              "\u001b[1m Trainable params: \u001b[0m\u001b[38;5;34m59,210\u001b[0m (231.29 KB)\n"
            ],
            "text/html": [
              "<pre style=\"white-space:pre;overflow-x:auto;line-height:normal;font-family:Menlo,'DejaVu Sans Mono',consolas,'Courier New',monospace\"><span style=\"font-weight: bold\"> Trainable params: </span><span style=\"color: #00af00; text-decoration-color: #00af00\">59,210</span> (231.29 KB)\n",
              "</pre>\n"
            ]
          },
          "metadata": {}
        },
        {
          "output_type": "display_data",
          "data": {
            "text/plain": [
              "\u001b[1m Non-trainable params: \u001b[0m\u001b[38;5;34m0\u001b[0m (0.00 B)\n"
            ],
            "text/html": [
              "<pre style=\"white-space:pre;overflow-x:auto;line-height:normal;font-family:Menlo,'DejaVu Sans Mono',consolas,'Courier New',monospace\"><span style=\"font-weight: bold\"> Non-trainable params: </span><span style=\"color: #00af00; text-decoration-color: #00af00\">0</span> (0.00 B)\n",
              "</pre>\n"
            ]
          },
          "metadata": {}
        }
      ],
      "source": [
        "model.summary()"
      ]
    },
    {
      "cell_type": "markdown",
      "metadata": {
        "id": "fS-8f6EblmSm"
      },
      "source": [
        "Compile the model"
      ]
    },
    {
      "cell_type": "code",
      "execution_count": 20,
      "metadata": {
        "id": "Y4KiIEgtloo0"
      },
      "outputs": [],
      "source": [
        "model.compile(optimizer='adam',loss='categorical_crossentropy',metrics=['accuracy'])"
      ]
    },
    {
      "cell_type": "markdown",
      "metadata": {
        "id": "AtqDz6KOmhc3"
      },
      "source": [
        "Fit the model"
      ]
    },
    {
      "cell_type": "code",
      "execution_count": 27,
      "metadata": {
        "id": "xntphg8YmjUY",
        "colab": {
          "base_uri": "https://localhost:8080/"
        },
        "outputId": "bb8ede6a-531b-4df2-a636-1290a1c1a0b2"
      },
      "outputs": [
        {
          "output_type": "stream",
          "name": "stdout",
          "text": [
            "Epoch 1/100\n",
            "\u001b[1m400/400\u001b[0m \u001b[32m━━━━━━━━━━━━━━━━━━━━\u001b[0m\u001b[37m\u001b[0m \u001b[1m3s\u001b[0m 7ms/step - accuracy: 0.9302 - loss: 0.1854 - val_accuracy: 0.8724 - val_loss: 0.5783\n",
            "Epoch 2/100\n",
            "\u001b[1m400/400\u001b[0m \u001b[32m━━━━━━━━━━━━━━━━━━━━\u001b[0m\u001b[37m\u001b[0m \u001b[1m3s\u001b[0m 8ms/step - accuracy: 0.9330 - loss: 0.1811 - val_accuracy: 0.8695 - val_loss: 0.5282\n",
            "Epoch 3/100\n",
            "\u001b[1m400/400\u001b[0m \u001b[32m━━━━━━━━━━━━━━━━━━━━\u001b[0m\u001b[37m\u001b[0m \u001b[1m4s\u001b[0m 5ms/step - accuracy: 0.9328 - loss: 0.1769 - val_accuracy: 0.8772 - val_loss: 0.5114\n",
            "Epoch 4/100\n",
            "\u001b[1m400/400\u001b[0m \u001b[32m━━━━━━━━━━━━━━━━━━━━\u001b[0m\u001b[37m\u001b[0m \u001b[1m4s\u001b[0m 10ms/step - accuracy: 0.9339 - loss: 0.1694 - val_accuracy: 0.8792 - val_loss: 0.5168\n",
            "Epoch 5/100\n",
            "\u001b[1m400/400\u001b[0m \u001b[32m━━━━━━━━━━━━━━━━━━━━\u001b[0m\u001b[37m\u001b[0m \u001b[1m4s\u001b[0m 8ms/step - accuracy: 0.9343 - loss: 0.1745 - val_accuracy: 0.8795 - val_loss: 0.5418\n",
            "Epoch 6/100\n",
            "\u001b[1m400/400\u001b[0m \u001b[32m━━━━━━━━━━━━━━━━━━━━\u001b[0m\u001b[37m\u001b[0m \u001b[1m4s\u001b[0m 6ms/step - accuracy: 0.9333 - loss: 0.1759 - val_accuracy: 0.8788 - val_loss: 0.5419\n",
            "Epoch 7/100\n",
            "\u001b[1m400/400\u001b[0m \u001b[32m━━━━━━━━━━━━━━━━━━━━\u001b[0m\u001b[37m\u001b[0m \u001b[1m4s\u001b[0m 10ms/step - accuracy: 0.9336 - loss: 0.1736 - val_accuracy: 0.8774 - val_loss: 0.5340\n",
            "Epoch 8/100\n",
            "\u001b[1m400/400\u001b[0m \u001b[32m━━━━━━━━━━━━━━━━━━━━\u001b[0m\u001b[37m\u001b[0m \u001b[1m4s\u001b[0m 11ms/step - accuracy: 0.9326 - loss: 0.1817 - val_accuracy: 0.8748 - val_loss: 0.5617\n",
            "Epoch 9/100\n",
            "\u001b[1m400/400\u001b[0m \u001b[32m━━━━━━━━━━━━━━━━━━━━\u001b[0m\u001b[37m\u001b[0m \u001b[1m3s\u001b[0m 5ms/step - accuracy: 0.9369 - loss: 0.1677 - val_accuracy: 0.8717 - val_loss: 0.5248\n",
            "Epoch 10/100\n",
            "\u001b[1m400/400\u001b[0m \u001b[32m━━━━━━━━━━━━━━━━━━━━\u001b[0m\u001b[37m\u001b[0m \u001b[1m2s\u001b[0m 6ms/step - accuracy: 0.9360 - loss: 0.1709 - val_accuracy: 0.8721 - val_loss: 0.5920\n",
            "Epoch 11/100\n",
            "\u001b[1m400/400\u001b[0m \u001b[32m━━━━━━━━━━━━━━━━━━━━\u001b[0m\u001b[37m\u001b[0m \u001b[1m2s\u001b[0m 6ms/step - accuracy: 0.9377 - loss: 0.1663 - val_accuracy: 0.8788 - val_loss: 0.6097\n",
            "Epoch 12/100\n",
            "\u001b[1m400/400\u001b[0m \u001b[32m━━━━━━━━━━━━━━━━━━━━\u001b[0m\u001b[37m\u001b[0m \u001b[1m3s\u001b[0m 8ms/step - accuracy: 0.9379 - loss: 0.1656 - val_accuracy: 0.8738 - val_loss: 0.6036\n",
            "Epoch 13/100\n",
            "\u001b[1m400/400\u001b[0m \u001b[32m━━━━━━━━━━━━━━━━━━━━\u001b[0m\u001b[37m\u001b[0m \u001b[1m4s\u001b[0m 6ms/step - accuracy: 0.9387 - loss: 0.1714 - val_accuracy: 0.8802 - val_loss: 0.5683\n",
            "Epoch 14/100\n",
            "\u001b[1m400/400\u001b[0m \u001b[32m━━━━━━━━━━━━━━━━━━━━\u001b[0m\u001b[37m\u001b[0m \u001b[1m3s\u001b[0m 7ms/step - accuracy: 0.9381 - loss: 0.1677 - val_accuracy: 0.8745 - val_loss: 0.5832\n",
            "Epoch 15/100\n",
            "\u001b[1m400/400\u001b[0m \u001b[32m━━━━━━━━━━━━━━━━━━━━\u001b[0m\u001b[37m\u001b[0m \u001b[1m4s\u001b[0m 4ms/step - accuracy: 0.9409 - loss: 0.1593 - val_accuracy: 0.8712 - val_loss: 0.6160\n",
            "Epoch 16/100\n",
            "\u001b[1m400/400\u001b[0m \u001b[32m━━━━━━━━━━━━━━━━━━━━\u001b[0m\u001b[37m\u001b[0m \u001b[1m2s\u001b[0m 6ms/step - accuracy: 0.9388 - loss: 0.1666 - val_accuracy: 0.8754 - val_loss: 0.5642\n",
            "Epoch 17/100\n",
            "\u001b[1m400/400\u001b[0m \u001b[32m━━━━━━━━━━━━━━━━━━━━\u001b[0m\u001b[37m\u001b[0m \u001b[1m3s\u001b[0m 6ms/step - accuracy: 0.9367 - loss: 0.1692 - val_accuracy: 0.8739 - val_loss: 0.5374\n",
            "Epoch 18/100\n",
            "\u001b[1m400/400\u001b[0m \u001b[32m━━━━━━━━━━━━━━━━━━━━\u001b[0m\u001b[37m\u001b[0m \u001b[1m3s\u001b[0m 8ms/step - accuracy: 0.9346 - loss: 0.1777 - val_accuracy: 0.8763 - val_loss: 0.5226\n",
            "Epoch 19/100\n",
            "\u001b[1m400/400\u001b[0m \u001b[32m━━━━━━━━━━━━━━━━━━━━\u001b[0m\u001b[37m\u001b[0m \u001b[1m5s\u001b[0m 7ms/step - accuracy: 0.9402 - loss: 0.1588 - val_accuracy: 0.8726 - val_loss: 0.5956\n",
            "Epoch 20/100\n",
            "\u001b[1m400/400\u001b[0m \u001b[32m━━━━━━━━━━━━━━━━━━━━\u001b[0m\u001b[37m\u001b[0m \u001b[1m2s\u001b[0m 4ms/step - accuracy: 0.9416 - loss: 0.1613 - val_accuracy: 0.8775 - val_loss: 0.5870\n",
            "Epoch 21/100\n",
            "\u001b[1m400/400\u001b[0m \u001b[32m━━━━━━━━━━━━━━━━━━━━\u001b[0m\u001b[37m\u001b[0m \u001b[1m3s\u001b[0m 6ms/step - accuracy: 0.9394 - loss: 0.1600 - val_accuracy: 0.8746 - val_loss: 0.5958\n",
            "Epoch 22/100\n",
            "\u001b[1m400/400\u001b[0m \u001b[32m━━━━━━━━━━━━━━━━━━━━\u001b[0m\u001b[37m\u001b[0m \u001b[1m6s\u001b[0m 9ms/step - accuracy: 0.9327 - loss: 0.1790 - val_accuracy: 0.8753 - val_loss: 0.5820\n",
            "Epoch 23/100\n",
            "\u001b[1m400/400\u001b[0m \u001b[32m━━━━━━━━━━━━━━━━━━━━\u001b[0m\u001b[37m\u001b[0m \u001b[1m3s\u001b[0m 7ms/step - accuracy: 0.9383 - loss: 0.1612 - val_accuracy: 0.8784 - val_loss: 0.6068\n",
            "Epoch 24/100\n",
            "\u001b[1m400/400\u001b[0m \u001b[32m━━━━━━━━━━━━━━━━━━━━\u001b[0m\u001b[37m\u001b[0m \u001b[1m6s\u001b[0m 8ms/step - accuracy: 0.9391 - loss: 0.1643 - val_accuracy: 0.8772 - val_loss: 0.6008\n",
            "Epoch 25/100\n",
            "\u001b[1m400/400\u001b[0m \u001b[32m━━━━━━━━━━━━━━━━━━━━\u001b[0m\u001b[37m\u001b[0m \u001b[1m5s\u001b[0m 7ms/step - accuracy: 0.9412 - loss: 0.1593 - val_accuracy: 0.8748 - val_loss: 0.5686\n",
            "Epoch 26/100\n",
            "\u001b[1m400/400\u001b[0m \u001b[32m━━━━━━━━━━━━━━━━━━━━\u001b[0m\u001b[37m\u001b[0m \u001b[1m4s\u001b[0m 4ms/step - accuracy: 0.9397 - loss: 0.1630 - val_accuracy: 0.8686 - val_loss: 0.6594\n",
            "Epoch 27/100\n",
            "\u001b[1m400/400\u001b[0m \u001b[32m━━━━━━━━━━━━━━━━━━━━\u001b[0m\u001b[37m\u001b[0m \u001b[1m2s\u001b[0m 5ms/step - accuracy: 0.9407 - loss: 0.1604 - val_accuracy: 0.8737 - val_loss: 0.6167\n",
            "Epoch 28/100\n",
            "\u001b[1m400/400\u001b[0m \u001b[32m━━━━━━━━━━━━━━━━━━━━\u001b[0m\u001b[37m\u001b[0m \u001b[1m4s\u001b[0m 8ms/step - accuracy: 0.9414 - loss: 0.1585 - val_accuracy: 0.8774 - val_loss: 0.5593\n",
            "Epoch 29/100\n",
            "\u001b[1m400/400\u001b[0m \u001b[32m━━━━━━━━━━━━━━━━━━━━\u001b[0m\u001b[37m\u001b[0m \u001b[1m4s\u001b[0m 9ms/step - accuracy: 0.9413 - loss: 0.1548 - val_accuracy: 0.8767 - val_loss: 0.5915\n",
            "Epoch 30/100\n",
            "\u001b[1m400/400\u001b[0m \u001b[32m━━━━━━━━━━━━━━━━━━━━\u001b[0m\u001b[37m\u001b[0m \u001b[1m3s\u001b[0m 7ms/step - accuracy: 0.9381 - loss: 0.1661 - val_accuracy: 0.8756 - val_loss: 0.6040\n",
            "Epoch 31/100\n",
            "\u001b[1m400/400\u001b[0m \u001b[32m━━━━━━━━━━━━━━━━━━━━\u001b[0m\u001b[37m\u001b[0m \u001b[1m2s\u001b[0m 5ms/step - accuracy: 0.9390 - loss: 0.1630 - val_accuracy: 0.8767 - val_loss: 0.6099\n",
            "Epoch 32/100\n",
            "\u001b[1m400/400\u001b[0m \u001b[32m━━━━━━━━━━━━━━━━━━━━\u001b[0m\u001b[37m\u001b[0m \u001b[1m3s\u001b[0m 7ms/step - accuracy: 0.9419 - loss: 0.1601 - val_accuracy: 0.8778 - val_loss: 0.5856\n",
            "Epoch 33/100\n",
            "\u001b[1m400/400\u001b[0m \u001b[32m━━━━━━━━━━━━━━━━━━━━\u001b[0m\u001b[37m\u001b[0m \u001b[1m7s\u001b[0m 10ms/step - accuracy: 0.9395 - loss: 0.1613 - val_accuracy: 0.8770 - val_loss: 0.6207\n",
            "Epoch 34/100\n",
            "\u001b[1m400/400\u001b[0m \u001b[32m━━━━━━━━━━━━━━━━━━━━\u001b[0m\u001b[37m\u001b[0m \u001b[1m4s\u001b[0m 7ms/step - accuracy: 0.9395 - loss: 0.1604 - val_accuracy: 0.8747 - val_loss: 0.6679\n",
            "Epoch 35/100\n",
            "\u001b[1m400/400\u001b[0m \u001b[32m━━━━━━━━━━━━━━━━━━━━\u001b[0m\u001b[37m\u001b[0m \u001b[1m2s\u001b[0m 5ms/step - accuracy: 0.9382 - loss: 0.1700 - val_accuracy: 0.8767 - val_loss: 0.5952\n",
            "Epoch 36/100\n",
            "\u001b[1m400/400\u001b[0m \u001b[32m━━━━━━━━━━━━━━━━━━━━\u001b[0m\u001b[37m\u001b[0m \u001b[1m3s\u001b[0m 7ms/step - accuracy: 0.9405 - loss: 0.1578 - val_accuracy: 0.8766 - val_loss: 0.5911\n",
            "Epoch 37/100\n",
            "\u001b[1m400/400\u001b[0m \u001b[32m━━━━━━━━━━━━━━━━━━━━\u001b[0m\u001b[37m\u001b[0m \u001b[1m5s\u001b[0m 7ms/step - accuracy: 0.9393 - loss: 0.1575 - val_accuracy: 0.8775 - val_loss: 0.6024\n",
            "Epoch 38/100\n",
            "\u001b[1m400/400\u001b[0m \u001b[32m━━━━━━━━━━━━━━━━━━━━\u001b[0m\u001b[37m\u001b[0m \u001b[1m3s\u001b[0m 7ms/step - accuracy: 0.9438 - loss: 0.1533 - val_accuracy: 0.8770 - val_loss: 0.6780\n",
            "Epoch 39/100\n",
            "\u001b[1m400/400\u001b[0m \u001b[32m━━━━━━━━━━━━━━━━━━━━\u001b[0m\u001b[37m\u001b[0m \u001b[1m6s\u001b[0m 10ms/step - accuracy: 0.9392 - loss: 0.1630 - val_accuracy: 0.8743 - val_loss: 0.5725\n",
            "Epoch 40/100\n",
            "\u001b[1m400/400\u001b[0m \u001b[32m━━━━━━━━━━━━━━━━━━━━\u001b[0m\u001b[37m\u001b[0m \u001b[1m3s\u001b[0m 9ms/step - accuracy: 0.9387 - loss: 0.1635 - val_accuracy: 0.8717 - val_loss: 0.6443\n",
            "Epoch 41/100\n",
            "\u001b[1m400/400\u001b[0m \u001b[32m━━━━━━━━━━━━━━━━━━━━\u001b[0m\u001b[37m\u001b[0m \u001b[1m7s\u001b[0m 14ms/step - accuracy: 0.9407 - loss: 0.1562 - val_accuracy: 0.8808 - val_loss: 0.6596\n",
            "Epoch 42/100\n",
            "\u001b[1m400/400\u001b[0m \u001b[32m━━━━━━━━━━━━━━━━━━━━\u001b[0m\u001b[37m\u001b[0m \u001b[1m6s\u001b[0m 4ms/step - accuracy: 0.9433 - loss: 0.1558 - val_accuracy: 0.8748 - val_loss: 0.6063\n",
            "Epoch 43/100\n",
            "\u001b[1m400/400\u001b[0m \u001b[32m━━━━━━━━━━━━━━━━━━━━\u001b[0m\u001b[37m\u001b[0m \u001b[1m2s\u001b[0m 4ms/step - accuracy: 0.9378 - loss: 0.1630 - val_accuracy: 0.8773 - val_loss: 0.6333\n",
            "Epoch 44/100\n",
            "\u001b[1m400/400\u001b[0m \u001b[32m━━━━━━━━━━━━━━━━━━━━\u001b[0m\u001b[37m\u001b[0m \u001b[1m2s\u001b[0m 6ms/step - accuracy: 0.9407 - loss: 0.1646 - val_accuracy: 0.8780 - val_loss: 0.6401\n",
            "Epoch 45/100\n",
            "\u001b[1m400/400\u001b[0m \u001b[32m━━━━━━━━━━━━━━━━━━━━\u001b[0m\u001b[37m\u001b[0m \u001b[1m3s\u001b[0m 8ms/step - accuracy: 0.9429 - loss: 0.1521 - val_accuracy: 0.8758 - val_loss: 0.6674\n",
            "Epoch 46/100\n",
            "\u001b[1m400/400\u001b[0m \u001b[32m━━━━━━━━━━━━━━━━━━━━\u001b[0m\u001b[37m\u001b[0m \u001b[1m2s\u001b[0m 4ms/step - accuracy: 0.9410 - loss: 0.1588 - val_accuracy: 0.8704 - val_loss: 0.6450\n",
            "Epoch 47/100\n",
            "\u001b[1m400/400\u001b[0m \u001b[32m━━━━━━━━━━━━━━━━━━━━\u001b[0m\u001b[37m\u001b[0m \u001b[1m3s\u001b[0m 4ms/step - accuracy: 0.9359 - loss: 0.1811 - val_accuracy: 0.8641 - val_loss: 0.6205\n",
            "Epoch 48/100\n",
            "\u001b[1m400/400\u001b[0m \u001b[32m━━━━━━━━━━━━━━━━━━━━\u001b[0m\u001b[37m\u001b[0m \u001b[1m2s\u001b[0m 4ms/step - accuracy: 0.9398 - loss: 0.1624 - val_accuracy: 0.8756 - val_loss: 0.6119\n",
            "Epoch 49/100\n",
            "\u001b[1m400/400\u001b[0m \u001b[32m━━━━━━━━━━━━━━━━━━━━\u001b[0m\u001b[37m\u001b[0m \u001b[1m2s\u001b[0m 4ms/step - accuracy: 0.9446 - loss: 0.1485 - val_accuracy: 0.8788 - val_loss: 0.6496\n",
            "Epoch 50/100\n",
            "\u001b[1m400/400\u001b[0m \u001b[32m━━━━━━━━━━━━━━━━━━━━\u001b[0m\u001b[37m\u001b[0m \u001b[1m2s\u001b[0m 4ms/step - accuracy: 0.9461 - loss: 0.1435 - val_accuracy: 0.8773 - val_loss: 0.6410\n",
            "Epoch 51/100\n",
            "\u001b[1m400/400\u001b[0m \u001b[32m━━━━━━━━━━━━━━━━━━━━\u001b[0m\u001b[37m\u001b[0m \u001b[1m4s\u001b[0m 7ms/step - accuracy: 0.9476 - loss: 0.1403 - val_accuracy: 0.8763 - val_loss: 0.6861\n",
            "Epoch 52/100\n",
            "\u001b[1m400/400\u001b[0m \u001b[32m━━━━━━━━━━━━━━━━━━━━\u001b[0m\u001b[37m\u001b[0m \u001b[1m4s\u001b[0m 4ms/step - accuracy: 0.9471 - loss: 0.1396 - val_accuracy: 0.8726 - val_loss: 0.6751\n",
            "Epoch 53/100\n",
            "\u001b[1m400/400\u001b[0m \u001b[32m━━━━━━━━━━━━━━━━━━━━\u001b[0m\u001b[37m\u001b[0m \u001b[1m3s\u001b[0m 4ms/step - accuracy: 0.9421 - loss: 0.1532 - val_accuracy: 0.8754 - val_loss: 0.6877\n",
            "Epoch 54/100\n",
            "\u001b[1m400/400\u001b[0m \u001b[32m━━━━━━━━━━━━━━━━━━━━\u001b[0m\u001b[37m\u001b[0m \u001b[1m2s\u001b[0m 4ms/step - accuracy: 0.9390 - loss: 0.1678 - val_accuracy: 0.8750 - val_loss: 0.6367\n",
            "Epoch 55/100\n",
            "\u001b[1m400/400\u001b[0m \u001b[32m━━━━━━━━━━━━━━━━━━━━\u001b[0m\u001b[37m\u001b[0m \u001b[1m3s\u001b[0m 6ms/step - accuracy: 0.9453 - loss: 0.1485 - val_accuracy: 0.8763 - val_loss: 0.6578\n",
            "Epoch 56/100\n",
            "\u001b[1m400/400\u001b[0m \u001b[32m━━━━━━━━━━━━━━━━━━━━\u001b[0m\u001b[37m\u001b[0m \u001b[1m3s\u001b[0m 7ms/step - accuracy: 0.9429 - loss: 0.1550 - val_accuracy: 0.8749 - val_loss: 0.6671\n",
            "Epoch 57/100\n",
            "\u001b[1m400/400\u001b[0m \u001b[32m━━━━━━━━━━━━━━━━━━━━\u001b[0m\u001b[37m\u001b[0m \u001b[1m4s\u001b[0m 4ms/step - accuracy: 0.9397 - loss: 0.1598 - val_accuracy: 0.8772 - val_loss: 0.6652\n",
            "Epoch 58/100\n",
            "\u001b[1m400/400\u001b[0m \u001b[32m━━━━━━━━━━━━━━━━━━━━\u001b[0m\u001b[37m\u001b[0m \u001b[1m2s\u001b[0m 5ms/step - accuracy: 0.9438 - loss: 0.1479 - val_accuracy: 0.8758 - val_loss: 0.6637\n",
            "Epoch 59/100\n",
            "\u001b[1m400/400\u001b[0m \u001b[32m━━━━━━━━━━━━━━━━━━━━\u001b[0m\u001b[37m\u001b[0m \u001b[1m2s\u001b[0m 6ms/step - accuracy: 0.9444 - loss: 0.1526 - val_accuracy: 0.8763 - val_loss: 0.6518\n",
            "Epoch 60/100\n",
            "\u001b[1m400/400\u001b[0m \u001b[32m━━━━━━━━━━━━━━━━━━━━\u001b[0m\u001b[37m\u001b[0m \u001b[1m2s\u001b[0m 5ms/step - accuracy: 0.9442 - loss: 0.1527 - val_accuracy: 0.8754 - val_loss: 0.7073\n",
            "Epoch 61/100\n",
            "\u001b[1m400/400\u001b[0m \u001b[32m━━━━━━━━━━━━━━━━━━━━\u001b[0m\u001b[37m\u001b[0m \u001b[1m4s\u001b[0m 8ms/step - accuracy: 0.9458 - loss: 0.1454 - val_accuracy: 0.8790 - val_loss: 0.6778\n",
            "Epoch 62/100\n",
            "\u001b[1m400/400\u001b[0m \u001b[32m━━━━━━━━━━━━━━━━━━━━\u001b[0m\u001b[37m\u001b[0m \u001b[1m4s\u001b[0m 5ms/step - accuracy: 0.9456 - loss: 0.1477 - val_accuracy: 0.8752 - val_loss: 0.6670\n",
            "Epoch 63/100\n",
            "\u001b[1m400/400\u001b[0m \u001b[32m━━━━━━━━━━━━━━━━━━━━\u001b[0m\u001b[37m\u001b[0m \u001b[1m3s\u001b[0m 4ms/step - accuracy: 0.9459 - loss: 0.1468 - val_accuracy: 0.8752 - val_loss: 0.6811\n",
            "Epoch 64/100\n",
            "\u001b[1m400/400\u001b[0m \u001b[32m━━━━━━━━━━━━━━━━━━━━\u001b[0m\u001b[37m\u001b[0m \u001b[1m2s\u001b[0m 5ms/step - accuracy: 0.9466 - loss: 0.1394 - val_accuracy: 0.8748 - val_loss: 0.6829\n",
            "Epoch 65/100\n",
            "\u001b[1m400/400\u001b[0m \u001b[32m━━━━━━━━━━━━━━━━━━━━\u001b[0m\u001b[37m\u001b[0m \u001b[1m2s\u001b[0m 4ms/step - accuracy: 0.9483 - loss: 0.1346 - val_accuracy: 0.8729 - val_loss: 0.6164\n",
            "Epoch 66/100\n",
            "\u001b[1m400/400\u001b[0m \u001b[32m━━━━━━━━━━━━━━━━━━━━\u001b[0m\u001b[37m\u001b[0m \u001b[1m3s\u001b[0m 6ms/step - accuracy: 0.9429 - loss: 0.1497 - val_accuracy: 0.8754 - val_loss: 0.6760\n",
            "Epoch 67/100\n",
            "\u001b[1m400/400\u001b[0m \u001b[32m━━━━━━━━━━━━━━━━━━━━\u001b[0m\u001b[37m\u001b[0m \u001b[1m3s\u001b[0m 8ms/step - accuracy: 0.9476 - loss: 0.1412 - val_accuracy: 0.8737 - val_loss: 0.7099\n",
            "Epoch 68/100\n",
            "\u001b[1m400/400\u001b[0m \u001b[32m━━━━━━━━━━━━━━━━━━━━\u001b[0m\u001b[37m\u001b[0m \u001b[1m2s\u001b[0m 5ms/step - accuracy: 0.9457 - loss: 0.1507 - val_accuracy: 0.8752 - val_loss: 0.6489\n",
            "Epoch 69/100\n",
            "\u001b[1m400/400\u001b[0m \u001b[32m━━━━━━━━━━━━━━━━━━━━\u001b[0m\u001b[37m\u001b[0m \u001b[1m2s\u001b[0m 4ms/step - accuracy: 0.9455 - loss: 0.1484 - val_accuracy: 0.8723 - val_loss: 0.6744\n",
            "Epoch 70/100\n",
            "\u001b[1m400/400\u001b[0m \u001b[32m━━━━━━━━━━━━━━━━━━━━\u001b[0m\u001b[37m\u001b[0m \u001b[1m2s\u001b[0m 4ms/step - accuracy: 0.9450 - loss: 0.1472 - val_accuracy: 0.8752 - val_loss: 0.6560\n",
            "Epoch 71/100\n",
            "\u001b[1m400/400\u001b[0m \u001b[32m━━━━━━━━━━━━━━━━━━━━\u001b[0m\u001b[37m\u001b[0m \u001b[1m2s\u001b[0m 5ms/step - accuracy: 0.9428 - loss: 0.1499 - val_accuracy: 0.8720 - val_loss: 0.6697\n",
            "Epoch 72/100\n",
            "\u001b[1m400/400\u001b[0m \u001b[32m━━━━━━━━━━━━━━━━━━━━\u001b[0m\u001b[37m\u001b[0m \u001b[1m3s\u001b[0m 5ms/step - accuracy: 0.9469 - loss: 0.1365 - val_accuracy: 0.8768 - val_loss: 0.6466\n",
            "Epoch 73/100\n",
            "\u001b[1m400/400\u001b[0m \u001b[32m━━━━━━━━━━━━━━━━━━━━\u001b[0m\u001b[37m\u001b[0m \u001b[1m4s\u001b[0m 8ms/step - accuracy: 0.9465 - loss: 0.1460 - val_accuracy: 0.8754 - val_loss: 0.6699\n",
            "Epoch 74/100\n",
            "\u001b[1m400/400\u001b[0m \u001b[32m━━━━━━━━━━━━━━━━━━━━\u001b[0m\u001b[37m\u001b[0m \u001b[1m2s\u001b[0m 5ms/step - accuracy: 0.9486 - loss: 0.1393 - val_accuracy: 0.8798 - val_loss: 0.6832\n",
            "Epoch 75/100\n",
            "\u001b[1m400/400\u001b[0m \u001b[32m━━━━━━━━━━━━━━━━━━━━\u001b[0m\u001b[37m\u001b[0m \u001b[1m2s\u001b[0m 4ms/step - accuracy: 0.9509 - loss: 0.1341 - val_accuracy: 0.8689 - val_loss: 0.6708\n",
            "Epoch 76/100\n",
            "\u001b[1m400/400\u001b[0m \u001b[32m━━━━━━━━━━━━━━━━━━━━\u001b[0m\u001b[37m\u001b[0m \u001b[1m2s\u001b[0m 4ms/step - accuracy: 0.9421 - loss: 0.1580 - val_accuracy: 0.8727 - val_loss: 0.6835\n",
            "Epoch 77/100\n",
            "\u001b[1m400/400\u001b[0m \u001b[32m━━━━━━━━━━━━━━━━━━━━\u001b[0m\u001b[37m\u001b[0m \u001b[1m3s\u001b[0m 5ms/step - accuracy: 0.9487 - loss: 0.1404 - val_accuracy: 0.8710 - val_loss: 0.7147\n",
            "Epoch 78/100\n",
            "\u001b[1m400/400\u001b[0m \u001b[32m━━━━━━━━━━━━━━━━━━━━\u001b[0m\u001b[37m\u001b[0m \u001b[1m2s\u001b[0m 4ms/step - accuracy: 0.9473 - loss: 0.1429 - val_accuracy: 0.8759 - val_loss: 0.6757\n",
            "Epoch 79/100\n",
            "\u001b[1m400/400\u001b[0m \u001b[32m━━━━━━━━━━━━━━━━━━━━\u001b[0m\u001b[37m\u001b[0m \u001b[1m3s\u001b[0m 7ms/step - accuracy: 0.9484 - loss: 0.1355 - val_accuracy: 0.8751 - val_loss: 0.7171\n",
            "Epoch 80/100\n",
            "\u001b[1m400/400\u001b[0m \u001b[32m━━━━━━━━━━━━━━━━━━━━\u001b[0m\u001b[37m\u001b[0m \u001b[1m3s\u001b[0m 6ms/step - accuracy: 0.9521 - loss: 0.1275 - val_accuracy: 0.8766 - val_loss: 0.6956\n",
            "Epoch 81/100\n",
            "\u001b[1m400/400\u001b[0m \u001b[32m━━━━━━━━━━━━━━━━━━━━\u001b[0m\u001b[37m\u001b[0m \u001b[1m2s\u001b[0m 4ms/step - accuracy: 0.9469 - loss: 0.1410 - val_accuracy: 0.8671 - val_loss: 0.7483\n",
            "Epoch 82/100\n",
            "\u001b[1m400/400\u001b[0m \u001b[32m━━━━━━━━━━━━━━━━━━━━\u001b[0m\u001b[37m\u001b[0m \u001b[1m3s\u001b[0m 4ms/step - accuracy: 0.9444 - loss: 0.1577 - val_accuracy: 0.8724 - val_loss: 0.7040\n",
            "Epoch 83/100\n",
            "\u001b[1m400/400\u001b[0m \u001b[32m━━━━━━━━━━━━━━━━━━━━\u001b[0m\u001b[37m\u001b[0m \u001b[1m2s\u001b[0m 5ms/step - accuracy: 0.9478 - loss: 0.1391 - val_accuracy: 0.8794 - val_loss: 0.6708\n",
            "Epoch 84/100\n",
            "\u001b[1m400/400\u001b[0m \u001b[32m━━━━━━━━━━━━━━━━━━━━\u001b[0m\u001b[37m\u001b[0m \u001b[1m2s\u001b[0m 4ms/step - accuracy: 0.9470 - loss: 0.1392 - val_accuracy: 0.8672 - val_loss: 0.7592\n",
            "Epoch 85/100\n",
            "\u001b[1m400/400\u001b[0m \u001b[32m━━━━━━━━━━━━━━━━━━━━\u001b[0m\u001b[37m\u001b[0m \u001b[1m2s\u001b[0m 5ms/step - accuracy: 0.9318 - loss: 0.2070 - val_accuracy: 0.8723 - val_loss: 0.7382\n",
            "Epoch 86/100\n",
            "\u001b[1m400/400\u001b[0m \u001b[32m━━━━━━━━━━━━━━━━━━━━\u001b[0m\u001b[37m\u001b[0m \u001b[1m3s\u001b[0m 7ms/step - accuracy: 0.9487 - loss: 0.1396 - val_accuracy: 0.8770 - val_loss: 0.6824\n",
            "Epoch 87/100\n",
            "\u001b[1m400/400\u001b[0m \u001b[32m━━━━━━━━━━━━━━━━━━━━\u001b[0m\u001b[37m\u001b[0m \u001b[1m4s\u001b[0m 5ms/step - accuracy: 0.9510 - loss: 0.1298 - val_accuracy: 0.8787 - val_loss: 0.7383\n",
            "Epoch 88/100\n",
            "\u001b[1m400/400\u001b[0m \u001b[32m━━━━━━━━━━━━━━━━━━━━\u001b[0m\u001b[37m\u001b[0m \u001b[1m3s\u001b[0m 5ms/step - accuracy: 0.9511 - loss: 0.1295 - val_accuracy: 0.8677 - val_loss: 0.7575\n",
            "Epoch 89/100\n",
            "\u001b[1m400/400\u001b[0m \u001b[32m━━━━━━━━━━━━━━━━━━━━\u001b[0m\u001b[37m\u001b[0m \u001b[1m2s\u001b[0m 4ms/step - accuracy: 0.9434 - loss: 0.1472 - val_accuracy: 0.8706 - val_loss: 0.7871\n",
            "Epoch 90/100\n",
            "\u001b[1m400/400\u001b[0m \u001b[32m━━━━━━━━━━━━━━━━━━━━\u001b[0m\u001b[37m\u001b[0m \u001b[1m3s\u001b[0m 4ms/step - accuracy: 0.9464 - loss: 0.1406 - val_accuracy: 0.8742 - val_loss: 0.7402\n",
            "Epoch 91/100\n",
            "\u001b[1m400/400\u001b[0m \u001b[32m━━━━━━━━━━━━━━━━━━━━\u001b[0m\u001b[37m\u001b[0m \u001b[1m4s\u001b[0m 8ms/step - accuracy: 0.9460 - loss: 0.1457 - val_accuracy: 0.8758 - val_loss: 0.6891\n",
            "Epoch 92/100\n",
            "\u001b[1m400/400\u001b[0m \u001b[32m━━━━━━━━━━━━━━━━━━━━\u001b[0m\u001b[37m\u001b[0m \u001b[1m3s\u001b[0m 6ms/step - accuracy: 0.9497 - loss: 0.1327 - val_accuracy: 0.8712 - val_loss: 0.7952\n",
            "Epoch 93/100\n",
            "\u001b[1m400/400\u001b[0m \u001b[32m━━━━━━━━━━━━━━━━━━━━\u001b[0m\u001b[37m\u001b[0m \u001b[1m2s\u001b[0m 5ms/step - accuracy: 0.9482 - loss: 0.1442 - val_accuracy: 0.8768 - val_loss: 0.7008\n",
            "Epoch 94/100\n",
            "\u001b[1m400/400\u001b[0m \u001b[32m━━━━━━━━━━━━━━━━━━━━\u001b[0m\u001b[37m\u001b[0m \u001b[1m2s\u001b[0m 5ms/step - accuracy: 0.9535 - loss: 0.1287 - val_accuracy: 0.8752 - val_loss: 0.7295\n",
            "Epoch 95/100\n",
            "\u001b[1m400/400\u001b[0m \u001b[32m━━━━━━━━━━━━━━━━━━━━\u001b[0m\u001b[37m\u001b[0m \u001b[1m3s\u001b[0m 4ms/step - accuracy: 0.9531 - loss: 0.1284 - val_accuracy: 0.8755 - val_loss: 0.7883\n",
            "Epoch 96/100\n",
            "\u001b[1m400/400\u001b[0m \u001b[32m━━━━━━━━━━━━━━━━━━━━\u001b[0m\u001b[37m\u001b[0m \u001b[1m2s\u001b[0m 5ms/step - accuracy: 0.9508 - loss: 0.1296 - val_accuracy: 0.8671 - val_loss: 0.7816\n",
            "Epoch 97/100\n",
            "\u001b[1m400/400\u001b[0m \u001b[32m━━━━━━━━━━━━━━━━━━━━\u001b[0m\u001b[37m\u001b[0m \u001b[1m4s\u001b[0m 9ms/step - accuracy: 0.9496 - loss: 0.1392 - val_accuracy: 0.8743 - val_loss: 0.7031\n",
            "Epoch 98/100\n",
            "\u001b[1m400/400\u001b[0m \u001b[32m━━━━━━━━━━━━━━━━━━━━\u001b[0m\u001b[37m\u001b[0m \u001b[1m3s\u001b[0m 8ms/step - accuracy: 0.9499 - loss: 0.1362 - val_accuracy: 0.8773 - val_loss: 0.7484\n",
            "Epoch 99/100\n",
            "\u001b[1m400/400\u001b[0m \u001b[32m━━━━━━━━━━━━━━━━━━━━\u001b[0m\u001b[37m\u001b[0m \u001b[1m5s\u001b[0m 7ms/step - accuracy: 0.9428 - loss: 0.1585 - val_accuracy: 0.8727 - val_loss: 0.7100\n",
            "Epoch 100/100\n",
            "\u001b[1m400/400\u001b[0m \u001b[32m━━━━━━━━━━━━━━━━━━━━\u001b[0m\u001b[37m\u001b[0m \u001b[1m4s\u001b[0m 5ms/step - accuracy: 0.9510 - loss: 0.1292 - val_accuracy: 0.8788 - val_loss: 0.7881\n"
          ]
        }
      ],
      "source": [
        "hist = model.fit (x_train,y_train_ohe, batch_size = 120 ,epochs =100 , validation_data = (x_test,y_test_ohe))"
      ]
    },
    {
      "cell_type": "code",
      "execution_count": 28,
      "metadata": {
        "id": "L0pT7INP9p7D",
        "colab": {
          "base_uri": "https://localhost:8080/"
        },
        "outputId": "0611d251-c779-48e1-e93b-b95325919ab8"
      },
      "outputs": [
        {
          "output_type": "execute_result",
          "data": {
            "text/plain": [
              "dict_keys(['accuracy', 'loss', 'val_accuracy', 'val_loss'])"
            ]
          },
          "metadata": {},
          "execution_count": 28
        }
      ],
      "source": [
        "hist.history.keys()"
      ]
    },
    {
      "cell_type": "code",
      "source": [
        "plt.plot(hist.history['accuracy'])\n",
        "plt.plot(hist.history['val_accuracy'])\n",
        "plt.title('Model Accuracy')\n",
        "plt.ylabel('Accuracy')\n",
        "plt.xlabel('Epochs')\n",
        "plt.legend(['train','validation'],loc = 'upper left')"
      ],
      "metadata": {
        "id": "Hd8re3AjPen4",
        "outputId": "478342a1-5266-4f3c-9745-ccb34b80bf49",
        "colab": {
          "base_uri": "https://localhost:8080/",
          "height": 490
        }
      },
      "execution_count": 29,
      "outputs": [
        {
          "output_type": "execute_result",
          "data": {
            "text/plain": [
              "<matplotlib.legend.Legend at 0x7cace6eef700>"
            ]
          },
          "metadata": {},
          "execution_count": 29
        },
        {
          "output_type": "display_data",
          "data": {
            "text/plain": [
              "<Figure size 640x480 with 1 Axes>"
            ],
            "image/png": "[encoded data removed]"
          },
          "metadata": {}
        }
      ]
    },
    {
      "cell_type": "code",
      "source": [
        "plt.plot(hist.history['loss'])\n",
        "plt.plot(hist.history['val_loss'])\n",
        "plt.title('Model Loss')\n",
        "plt.ylabel('Loss')\n",
        "plt.xlabel('Epochs')\n",
        "plt.legend(['train','validation'],loc = 'upper left')"
      ],
      "metadata": {
        "id": "JVCG6nq9Pko0",
        "outputId": "f6567bbd-f3de-4de7-fbbf-15fe1ea689f9",
        "colab": {
          "base_uri": "https://localhost:8080/",
          "height": 490
        }
      },
      "execution_count": 30,
      "outputs": [
        {
          "output_type": "execute_result",
          "data": {
            "text/plain": [
              "<matplotlib.legend.Legend at 0x7cacf49ef490>"
            ]
          },
          "metadata": {},
          "execution_count": 30
        },
        {
          "output_type": "display_data",
          "data": {
            "text/plain": [
              "<Figure size 640x480 with 1 Axes>"
            ],
            "image/png": "[encoded data removed]"
          },
          "metadata": {}
        }
      ]
    },
    {
      "cell_type": "code",
      "source": [
        "y_hat_train_dense = np.argmax(model.predict(x_train),axis = 1)\n",
        "y_hat_test_dense = np.argmax(model.predict(x_test) , axis = 1)"
      ],
      "metadata": {
        "id": "LdPVy_-oPnnG",
        "outputId": "92379f1e-2704-42a6-d770-7b6c280dc9e1",
        "colab": {
          "base_uri": "https://localhost:8080/"
        }
      },
      "execution_count": 31,
      "outputs": [
        {
          "output_type": "stream",
          "name": "stdout",
          "text": [
            "\u001b[1m1500/1500\u001b[0m \u001b[32m━━━━━━━━━━━━━━━━━━━━\u001b[0m\u001b[37m\u001b[0m \u001b[1m4s\u001b[0m 3ms/step\n",
            "\u001b[1m375/375\u001b[0m \u001b[32m━━━━━━━━━━━━━━━━━━━━\u001b[0m\u001b[37m\u001b[0m \u001b[1m1s\u001b[0m 2ms/step\n"
          ]
        }
      ]
    },
    {
      "cell_type": "code",
      "source": [
        "model_eval(y_train,y_hat_train_dense)"
      ],
      "metadata": {
        "id": "JWhexxdlPsQ5",
        "outputId": "df880a78-e82a-4d97-b03e-6720bbea02b9",
        "colab": {
          "base_uri": "https://localhost:8080/"
        }
      },
      "execution_count": 32,
      "outputs": [
        {
          "output_type": "stream",
          "name": "stdout",
          "text": [
            "0.96\n",
            "              precision    recall  f1-score   support\n",
            "\n",
            "           0       0.93      0.93      0.93      4860\n",
            "           1       1.00      1.00      1.00      4759\n",
            "           2       0.92      0.90      0.91      4788\n",
            "           3       0.97      0.96      0.96      4851\n",
            "           4       0.86      0.94      0.90      4850\n",
            "           5       1.00      1.00      1.00      4776\n",
            "           6       0.89      0.85      0.87      4792\n",
            "           7       1.00      1.00      1.00      4773\n",
            "           8       1.00      0.99      0.99      4776\n",
            "           9       1.00      1.00      1.00      4775\n",
            "\n",
            "    accuracy                           0.96     48000\n",
            "   macro avg       0.96      0.96      0.96     48000\n",
            "weighted avg       0.96      0.96      0.96     48000\n",
            "\n",
            "[[4510    0   15   34    7    0  288    0    6    0]\n",
            " [   6 4745    1    5    0    0    2    0    0    0]\n",
            " [  42    0 4289   18  316    0  123    0    0    0]\n",
            " [  19    0    6 4637  163    0   24    0    2    0]\n",
            " [   1    0  192   39 4552    0   54    0   12    0]\n",
            " [   0    0    0    0    0 4776    0    0    0    0]\n",
            " [ 282    0  169   44  242    0 4055    0    0    0]\n",
            " [   0    0    0    0    0    0    0 4765    0    8]\n",
            " [   9    0    4    5    8    0    3    0 4747    0]\n",
            " [   0    0    0    0    0    0    0    6    0 4769]]\n"
          ]
        }
      ]
    },
    {
      "cell_type": "code",
      "source": [
        "model_eval(y_test,y_hat_test_dense)"
      ],
      "metadata": {
        "id": "ofRMpw8zPtUd",
        "outputId": "a86607f6-2896-49d0-fdd4-bd27852e516e",
        "colab": {
          "base_uri": "https://localhost:8080/"
        }
      },
      "execution_count": 33,
      "outputs": [
        {
          "output_type": "stream",
          "name": "stdout",
          "text": [
            "0.88\n",
            "              precision    recall  f1-score   support\n",
            "\n",
            "           0       0.81      0.82      0.81      1140\n",
            "           1       0.99      0.97      0.98      1241\n",
            "           2       0.80      0.80      0.80      1212\n",
            "           3       0.89      0.88      0.88      1149\n",
            "           4       0.76      0.84      0.80      1150\n",
            "           5       0.97      0.95      0.96      1224\n",
            "           6       0.72      0.66      0.69      1208\n",
            "           7       0.93      0.95      0.94      1227\n",
            "           8       0.96      0.96      0.96      1224\n",
            "           9       0.95      0.96      0.95      1225\n",
            "\n",
            "    accuracy                           0.88     12000\n",
            "   macro avg       0.88      0.88      0.88     12000\n",
            "weighted avg       0.88      0.88      0.88     12000\n",
            "\n",
            "[[ 934    1   17   38    6    1  136    0    7    0]\n",
            " [   6 1201    2   20    4    1    6    0    1    0]\n",
            " [  17    1  974   18  124    1   74    0    3    0]\n",
            " [  35   10    9 1006   58    1   28    0    1    1]\n",
            " [   5    2  100   26  967    0   48    0    2    0]\n",
            " [   0    0    0    0    0 1158    0   37   10   19]\n",
            " [ 150    2  112   23  108    0  795    1   17    0]\n",
            " [   0    0    0    0    0   17    0 1163    2   45]\n",
            " [  11    0    9    4    9    3   11    4 1172    1]\n",
            " [   0    0    0    0    0    8    0   40    1 1176]]\n"
          ]
        }
      ]
    },
    {
      "cell_type": "markdown",
      "source": [
        "# Dropout Layer"
      ],
      "metadata": {
        "id": "5BimYX8RP0WK"
      }
    },
    {
      "cell_type": "code",
      "source": [
        "model = Sequential()\n",
        "model.add(Dense(512,activation ='relu',input_shape = (784,)))   #Layer 1 and Input Layer\n",
        "model.add(Dropout(0.2))    #Dropout Layer\n",
        "model.add(Dense(512,activation='relu'))       # Layer2\n",
        "model.add(Dropout(0.2))    #Dropout Layer\n",
        "model.add(Dense(512,activation = 'relu'))      # Layer 3\n",
        "model.add(Dropout(0.2))    #Dropout Layer\n",
        "model.add(Dense(10,activation = 'softmax'))    #Output Layer"
      ],
      "metadata": {
        "id": "A8H7-BlPP3Rw",
        "outputId": "3d7645cd-caa5-42c1-8ce6-11057d006ce7",
        "colab": {
          "base_uri": "https://localhost:8080/"
        }
      },
      "execution_count": 34,
      "outputs": [
        {
          "output_type": "stream",
          "name": "stderr",
          "text": [
            "/usr/local/lib/python3.10/dist-packages/keras/src/layers/core/dense.py:87: UserWarning: Do not pass an `input_shape`/`input_dim` argument to a layer. When using Sequential models, prefer using an `Input(shape)` object as the first layer in the model instead.\n",
            "  super().__init__(activity_regularizer=activity_regularizer, **kwargs)\n"
          ]
        }
      ]
    },
    {
      "cell_type": "code",
      "source": [
        "model.summary()"
      ],
      "metadata": {
        "id": "aquUjAloP-Hv",
        "outputId": "ac25c03d-da16-44d1-d3e8-f563021a4aec",
        "colab": {
          "base_uri": "https://localhost:8080/",
          "height": 353
        }
      },
      "execution_count": 35,
      "outputs": [
        {
          "output_type": "display_data",
          "data": {
            "text/plain": [
              "\u001b[1mModel: \"sequential_1\"\u001b[0m\n"
            ],
            "text/html": [
              "<pre style=\"white-space:pre;overflow-x:auto;line-height:normal;font-family:Menlo,'DejaVu Sans Mono',consolas,'Courier New',monospace\"><span style=\"font-weight: bold\">Model: \"sequential_1\"</span>\n",
              "</pre>\n"
            ]
          },
          "metadata": {}
        },
        {
          "output_type": "display_data",
          "data": {
            "text/plain": [
              "┏━━━━━━━━━━━━━━━━━━━━━━━━━━━━━━━━━━━━━━┳━━━━━━━━━━━━━━━━━━━━━━━━━━━━━┳━━━━━━━━━━━━━━━━━┓\n",
              "┃\u001b[1m \u001b[0m\u001b[1mLayer (type)                        \u001b[0m\u001b[1m \u001b[0m┃\u001b[1m \u001b[0m\u001b[1mOutput Shape               \u001b[0m\u001b[1m \u001b[0m┃\u001b[1m \u001b[0m\u001b[1m        Param #\u001b[0m\u001b[1m \u001b[0m┃\n",
              "┡━━━━━━━━━━━━━━━━━━━━━━━━━━━━━━━━━━━━━━╇━━━━━━━━━━━━━━━━━━━━━━━━━━━━━╇━━━━━━━━━━━━━━━━━┩\n",
              "│ dense_4 (\u001b[38;5;33mDense\u001b[0m)                      │ (\u001b[38;5;45mNone\u001b[0m, \u001b[38;5;34m512\u001b[0m)                 │         \u001b[38;5;34m401,920\u001b[0m │\n",
              "├──────────────────────────────────────┼─────────────────────────────┼─────────────────┤\n",
              "│ dropout (\u001b[38;5;33mDropout\u001b[0m)                    │ (\u001b[38;5;45mNone\u001b[0m, \u001b[38;5;34m512\u001b[0m)                 │               \u001b[38;5;34m0\u001b[0m │\n",
              "├──────────────────────────────────────┼─────────────────────────────┼─────────────────┤\n",
              "│ dense_5 (\u001b[38;5;33mDense\u001b[0m)                      │ (\u001b[38;5;45mNone\u001b[0m, \u001b[38;5;34m512\u001b[0m)                 │         \u001b[38;5;34m262,656\u001b[0m │\n",
              "├──────────────────────────────────────┼─────────────────────────────┼─────────────────┤\n",
              "│ dropout_1 (\u001b[38;5;33mDropout\u001b[0m)                  │ (\u001b[38;5;45mNone\u001b[0m, \u001b[38;5;34m512\u001b[0m)                 │               \u001b[38;5;34m0\u001b[0m │\n",
              "├──────────────────────────────────────┼─────────────────────────────┼─────────────────┤\n",
              "│ dense_6 (\u001b[38;5;33mDense\u001b[0m)                      │ (\u001b[38;5;45mNone\u001b[0m, \u001b[38;5;34m512\u001b[0m)                 │         \u001b[38;5;34m262,656\u001b[0m │\n",
              "├──────────────────────────────────────┼─────────────────────────────┼─────────────────┤\n",
              "│ dropout_2 (\u001b[38;5;33mDropout\u001b[0m)                  │ (\u001b[38;5;45mNone\u001b[0m, \u001b[38;5;34m512\u001b[0m)                 │               \u001b[38;5;34m0\u001b[0m │\n",
              "├──────────────────────────────────────┼─────────────────────────────┼─────────────────┤\n",
              "│ dense_7 (\u001b[38;5;33mDense\u001b[0m)                      │ (\u001b[38;5;45mNone\u001b[0m, \u001b[38;5;34m10\u001b[0m)                  │           \u001b[38;5;34m5,130\u001b[0m │\n",
              "└──────────────────────────────────────┴─────────────────────────────┴─────────────────┘\n"
            ],
            "text/html": [
              "<pre style=\"white-space:pre;overflow-x:auto;line-height:normal;font-family:Menlo,'DejaVu Sans Mono',consolas,'Courier New',monospace\">┏━━━━━━━━━━━━━━━━━━━━━━━━━━━━━━━━━━━━━━┳━━━━━━━━━━━━━━━━━━━━━━━━━━━━━┳━━━━━━━━━━━━━━━━━┓\n",
              "┃<span style=\"font-weight: bold\"> Layer (type)                         </span>┃<span style=\"font-weight: bold\"> Output Shape                </span>┃<span style=\"font-weight: bold\">         Param # </span>┃\n",
              "┡━━━━━━━━━━━━━━━━━━━━━━━━━━━━━━━━━━━━━━╇━━━━━━━━━━━━━━━━━━━━━━━━━━━━━╇━━━━━━━━━━━━━━━━━┩\n",
              "│ dense_4 (<span style=\"color: #0087ff; text-decoration-color: #0087ff\">Dense</span>)                      │ (<span style=\"color: #00d7ff; text-decoration-color: #00d7ff\">None</span>, <span style=\"color: #00af00; text-decoration-color: #00af00\">512</span>)                 │         <span style=\"color: #00af00; text-decoration-color: #00af00\">401,920</span> │\n",
              "├──────────────────────────────────────┼─────────────────────────────┼─────────────────┤\n",
              "│ dropout (<span style=\"color: #0087ff; text-decoration-color: #0087ff\">Dropout</span>)                    │ (<span style=\"color: #00d7ff; text-decoration-color: #00d7ff\">None</span>, <span style=\"color: #00af00; text-decoration-color: #00af00\">512</span>)                 │               <span style=\"color: #00af00; text-decoration-color: #00af00\">0</span> │\n",
              "├──────────────────────────────────────┼─────────────────────────────┼─────────────────┤\n",
              "│ dense_5 (<span style=\"color: #0087ff; text-decoration-color: #0087ff\">Dense</span>)                      │ (<span style=\"color: #00d7ff; text-decoration-color: #00d7ff\">None</span>, <span style=\"color: #00af00; text-decoration-color: #00af00\">512</span>)                 │         <span style=\"color: #00af00; text-decoration-color: #00af00\">262,656</span> │\n",
              "├──────────────────────────────────────┼─────────────────────────────┼─────────────────┤\n",
              "│ dropout_1 (<span style=\"color: #0087ff; text-decoration-color: #0087ff\">Dropout</span>)                  │ (<span style=\"color: #00d7ff; text-decoration-color: #00d7ff\">None</span>, <span style=\"color: #00af00; text-decoration-color: #00af00\">512</span>)                 │               <span style=\"color: #00af00; text-decoration-color: #00af00\">0</span> │\n",
              "├──────────────────────────────────────┼─────────────────────────────┼─────────────────┤\n",
              "│ dense_6 (<span style=\"color: #0087ff; text-decoration-color: #0087ff\">Dense</span>)                      │ (<span style=\"color: #00d7ff; text-decoration-color: #00d7ff\">None</span>, <span style=\"color: #00af00; text-decoration-color: #00af00\">512</span>)                 │         <span style=\"color: #00af00; text-decoration-color: #00af00\">262,656</span> │\n",
              "├──────────────────────────────────────┼─────────────────────────────┼─────────────────┤\n",
              "│ dropout_2 (<span style=\"color: #0087ff; text-decoration-color: #0087ff\">Dropout</span>)                  │ (<span style=\"color: #00d7ff; text-decoration-color: #00d7ff\">None</span>, <span style=\"color: #00af00; text-decoration-color: #00af00\">512</span>)                 │               <span style=\"color: #00af00; text-decoration-color: #00af00\">0</span> │\n",
              "├──────────────────────────────────────┼─────────────────────────────┼─────────────────┤\n",
              "│ dense_7 (<span style=\"color: #0087ff; text-decoration-color: #0087ff\">Dense</span>)                      │ (<span style=\"color: #00d7ff; text-decoration-color: #00d7ff\">None</span>, <span style=\"color: #00af00; text-decoration-color: #00af00\">10</span>)                  │           <span style=\"color: #00af00; text-decoration-color: #00af00\">5,130</span> │\n",
              "└──────────────────────────────────────┴─────────────────────────────┴─────────────────┘\n",
              "</pre>\n"
            ]
          },
          "metadata": {}
        },
        {
          "output_type": "display_data",
          "data": {
            "text/plain": [
              "\u001b[1m Total params: \u001b[0m\u001b[38;5;34m932,362\u001b[0m (3.56 MB)\n"
            ],
            "text/html": [
              "<pre style=\"white-space:pre;overflow-x:auto;line-height:normal;font-family:Menlo,'DejaVu Sans Mono',consolas,'Courier New',monospace\"><span style=\"font-weight: bold\"> Total params: </span><span style=\"color: #00af00; text-decoration-color: #00af00\">932,362</span> (3.56 MB)\n",
              "</pre>\n"
            ]
          },
          "metadata": {}
        },
        {
          "output_type": "display_data",
          "data": {
            "text/plain": [
              "\u001b[1m Trainable params: \u001b[0m\u001b[38;5;34m932,362\u001b[0m (3.56 MB)\n"
            ],
            "text/html": [
              "<pre style=\"white-space:pre;overflow-x:auto;line-height:normal;font-family:Menlo,'DejaVu Sans Mono',consolas,'Courier New',monospace\"><span style=\"font-weight: bold\"> Trainable params: </span><span style=\"color: #00af00; text-decoration-color: #00af00\">932,362</span> (3.56 MB)\n",
              "</pre>\n"
            ]
          },
          "metadata": {}
        },
        {
          "output_type": "display_data",
          "data": {
            "text/plain": [
              "\u001b[1m Non-trainable params: \u001b[0m\u001b[38;5;34m0\u001b[0m (0.00 B)\n"
            ],
            "text/html": [
              "<pre style=\"white-space:pre;overflow-x:auto;line-height:normal;font-family:Menlo,'DejaVu Sans Mono',consolas,'Courier New',monospace\"><span style=\"font-weight: bold\"> Non-trainable params: </span><span style=\"color: #00af00; text-decoration-color: #00af00\">0</span> (0.00 B)\n",
              "</pre>\n"
            ]
          },
          "metadata": {}
        }
      ]
    },
    {
      "cell_type": "code",
      "source": [
        "model.compile(optimizer = 'adam', loss= 'categorical_crossentropy' , metrics = ['accuracy'])"
      ],
      "metadata": {
        "id": "ZWxLV7l4QDEO"
      },
      "execution_count": 36,
      "outputs": []
    },
    {
      "cell_type": "code",
      "source": [
        "hist = model.fit(x_train, y_train_ohe , batch_size = 120 , epochs = 100 , validation_data = (x_test,y_test_ohe))"
      ],
      "metadata": {
        "id": "AiIS6_4zQFjR",
        "outputId": "a0f4e80c-957d-4475-a4ac-6a538d871392",
        "colab": {
          "base_uri": "https://localhost:8080/"
        }
      },
      "execution_count": 37,
      "outputs": [
        {
          "output_type": "stream",
          "name": "stdout",
          "text": [
            "Epoch 1/100\n",
            "\u001b[1m400/400\u001b[0m \u001b[32m━━━━━━━━━━━━━━━━━━━━\u001b[0m\u001b[37m\u001b[0m \u001b[1m14s\u001b[0m 31ms/step - accuracy: 0.6300 - loss: 11.5082 - val_accuracy: 0.8043 - val_loss: 0.5695\n",
            "Epoch 2/100\n",
            "\u001b[1m400/400\u001b[0m \u001b[32m━━━━━━━━━━━━━━━━━━━━\u001b[0m\u001b[37m\u001b[0m \u001b[1m20s\u001b[0m 29ms/step - accuracy: 0.7669 - loss: 0.6982 - val_accuracy: 0.8145 - val_loss: 0.5269\n",
            "Epoch 3/100\n",
            "\u001b[1m400/400\u001b[0m \u001b[32m━━━━━━━━━━━━━━━━━━━━\u001b[0m\u001b[37m\u001b[0m \u001b[1m11s\u001b[0m 29ms/step - accuracy: 0.7973 - loss: 0.5794 - val_accuracy: 0.8363 - val_loss: 0.4471\n",
            "Epoch 4/100\n",
            "\u001b[1m400/400\u001b[0m \u001b[32m━━━━━━━━━━━━━━━━━━━━\u001b[0m\u001b[37m\u001b[0m \u001b[1m20s\u001b[0m 29ms/step - accuracy: 0.8213 - loss: 0.5091 - val_accuracy: 0.8453 - val_loss: 0.4292\n",
            "Epoch 5/100\n",
            "\u001b[1m400/400\u001b[0m \u001b[32m━━━━━━━━━━━━━━━━━━━━\u001b[0m\u001b[37m\u001b[0m \u001b[1m20s\u001b[0m 26ms/step - accuracy: 0.8253 - loss: 0.4889 - val_accuracy: 0.8460 - val_loss: 0.4487\n",
            "Epoch 6/100\n",
            "\u001b[1m400/400\u001b[0m \u001b[32m━━━━━━━━━━━━━━━━━━━━\u001b[0m\u001b[37m\u001b[0m \u001b[1m21s\u001b[0m 28ms/step - accuracy: 0.8282 - loss: 0.4761 - val_accuracy: 0.8460 - val_loss: 0.4219\n",
            "Epoch 7/100\n",
            "\u001b[1m400/400\u001b[0m \u001b[32m━━━━━━━━━━━━━━━━━━━━\u001b[0m\u001b[37m\u001b[0m \u001b[1m24s\u001b[0m 37ms/step - accuracy: 0.8332 - loss: 0.4729 - val_accuracy: 0.8523 - val_loss: 0.4053\n",
            "Epoch 8/100\n",
            "\u001b[1m400/400\u001b[0m \u001b[32m━━━━━━━━━━━━━━━━━━━━\u001b[0m\u001b[37m\u001b[0m \u001b[1m20s\u001b[0m 37ms/step - accuracy: 0.8380 - loss: 0.4558 - val_accuracy: 0.8529 - val_loss: 0.4061\n",
            "Epoch 9/100\n",
            "\u001b[1m400/400\u001b[0m \u001b[32m━━━━━━━━━━━━━━━━━━━━\u001b[0m\u001b[37m\u001b[0m \u001b[1m23s\u001b[0m 44ms/step - accuracy: 0.8387 - loss: 0.4521 - val_accuracy: 0.8541 - val_loss: 0.3938\n",
            "Epoch 10/100\n",
            "\u001b[1m400/400\u001b[0m \u001b[32m━━━━━━━━━━━━━━━━━━━━\u001b[0m\u001b[37m\u001b[0m \u001b[1m15s\u001b[0m 30ms/step - accuracy: 0.8365 - loss: 0.4515 - val_accuracy: 0.8647 - val_loss: 0.3844\n",
            "Epoch 11/100\n",
            "\u001b[1m400/400\u001b[0m \u001b[32m━━━━━━━━━━━━━━━━━━━━\u001b[0m\u001b[37m\u001b[0m \u001b[1m20s\u001b[0m 28ms/step - accuracy: 0.8487 - loss: 0.4271 - val_accuracy: 0.8544 - val_loss: 0.4142\n",
            "Epoch 12/100\n",
            "\u001b[1m400/400\u001b[0m \u001b[32m━━━━━━━━━━━━━━━━━━━━\u001b[0m\u001b[37m\u001b[0m \u001b[1m18s\u001b[0m 23ms/step - accuracy: 0.8489 - loss: 0.4253 - val_accuracy: 0.8665 - val_loss: 0.3832\n",
            "Epoch 13/100\n",
            "\u001b[1m400/400\u001b[0m \u001b[32m━━━━━━━━━━━━━━━━━━━━\u001b[0m\u001b[37m\u001b[0m \u001b[1m12s\u001b[0m 28ms/step - accuracy: 0.8477 - loss: 0.4307 - val_accuracy: 0.8556 - val_loss: 0.4235\n",
            "Epoch 14/100\n",
            "\u001b[1m400/400\u001b[0m \u001b[32m━━━━━━━━━━━━━━━━━━━━\u001b[0m\u001b[37m\u001b[0m \u001b[1m20s\u001b[0m 26ms/step - accuracy: 0.8487 - loss: 0.4216 - val_accuracy: 0.8643 - val_loss: 0.3818\n",
            "Epoch 15/100\n",
            "\u001b[1m400/400\u001b[0m \u001b[32m━━━━━━━━━━━━━━━━━━━━\u001b[0m\u001b[37m\u001b[0m \u001b[1m10s\u001b[0m 25ms/step - accuracy: 0.8482 - loss: 0.4285 - val_accuracy: 0.8614 - val_loss: 0.3986\n",
            "Epoch 16/100\n",
            "\u001b[1m400/400\u001b[0m \u001b[32m━━━━━━━━━━━━━━━━━━━━\u001b[0m\u001b[37m\u001b[0m \u001b[1m12s\u001b[0m 30ms/step - accuracy: 0.8486 - loss: 0.4231 - val_accuracy: 0.8493 - val_loss: 0.4114\n",
            "Epoch 17/100\n",
            "\u001b[1m400/400\u001b[0m \u001b[32m━━━━━━━━━━━━━━━━━━━━\u001b[0m\u001b[37m\u001b[0m \u001b[1m18s\u001b[0m 24ms/step - accuracy: 0.8522 - loss: 0.4201 - val_accuracy: 0.8685 - val_loss: 0.3866\n",
            "Epoch 18/100\n",
            "\u001b[1m400/400\u001b[0m \u001b[32m━━━━━━━━━━━━━━━━━━━━\u001b[0m\u001b[37m\u001b[0m \u001b[1m12s\u001b[0m 27ms/step - accuracy: 0.8537 - loss: 0.4141 - val_accuracy: 0.8583 - val_loss: 0.4147\n",
            "Epoch 19/100\n",
            "\u001b[1m400/400\u001b[0m \u001b[32m━━━━━━━━━━━━━━━━━━━━\u001b[0m\u001b[37m\u001b[0m \u001b[1m21s\u001b[0m 28ms/step - accuracy: 0.8501 - loss: 0.4256 - val_accuracy: 0.8564 - val_loss: 0.4074\n",
            "Epoch 20/100\n",
            "\u001b[1m400/400\u001b[0m \u001b[32m━━━━━━━━━━━━━━━━━━━━\u001b[0m\u001b[37m\u001b[0m \u001b[1m21s\u001b[0m 29ms/step - accuracy: 0.8544 - loss: 0.4113 - val_accuracy: 0.8627 - val_loss: 0.4003\n",
            "Epoch 21/100\n",
            "\u001b[1m400/400\u001b[0m \u001b[32m━━━━━━━━━━━━━━━━━━━━\u001b[0m\u001b[37m\u001b[0m \u001b[1m11s\u001b[0m 29ms/step - accuracy: 0.8502 - loss: 0.4243 - val_accuracy: 0.8692 - val_loss: 0.3707\n",
            "Epoch 22/100\n",
            "\u001b[1m400/400\u001b[0m \u001b[32m━━━━━━━━━━━━━━━━━━━━\u001b[0m\u001b[37m\u001b[0m \u001b[1m20s\u001b[0m 29ms/step - accuracy: 0.8604 - loss: 0.3951 - val_accuracy: 0.8558 - val_loss: 0.4298\n",
            "Epoch 23/100\n",
            "\u001b[1m400/400\u001b[0m \u001b[32m━━━━━━━━━━━━━━━━━━━━\u001b[0m\u001b[37m\u001b[0m \u001b[1m11s\u001b[0m 29ms/step - accuracy: 0.8476 - loss: 0.4200 - val_accuracy: 0.8622 - val_loss: 0.3890\n",
            "Epoch 24/100\n",
            "\u001b[1m400/400\u001b[0m \u001b[32m━━━━━━━━━━━━━━━━━━━━\u001b[0m\u001b[37m\u001b[0m \u001b[1m19s\u001b[0m 26ms/step - accuracy: 0.8515 - loss: 0.4174 - val_accuracy: 0.8665 - val_loss: 0.3896\n",
            "Epoch 25/100\n",
            "\u001b[1m400/400\u001b[0m \u001b[32m━━━━━━━━━━━━━━━━━━━━\u001b[0m\u001b[37m\u001b[0m \u001b[1m11s\u001b[0m 28ms/step - accuracy: 0.8577 - loss: 0.4021 - val_accuracy: 0.8734 - val_loss: 0.3797\n",
            "Epoch 26/100\n",
            "\u001b[1m400/400\u001b[0m \u001b[32m━━━━━━━━━━━━━━━━━━━━\u001b[0m\u001b[37m\u001b[0m \u001b[1m11s\u001b[0m 28ms/step - accuracy: 0.8643 - loss: 0.3830 - val_accuracy: 0.8648 - val_loss: 0.3968\n",
            "Epoch 27/100\n",
            "\u001b[1m400/400\u001b[0m \u001b[32m━━━━━━━━━━━━━━━━━━━━\u001b[0m\u001b[37m\u001b[0m \u001b[1m20s\u001b[0m 28ms/step - accuracy: 0.8601 - loss: 0.3955 - val_accuracy: 0.8573 - val_loss: 0.3991\n",
            "Epoch 28/100\n",
            "\u001b[1m400/400\u001b[0m \u001b[32m━━━━━━━━━━━━━━━━━━━━\u001b[0m\u001b[37m\u001b[0m \u001b[1m11s\u001b[0m 27ms/step - accuracy: 0.8575 - loss: 0.4068 - val_accuracy: 0.8657 - val_loss: 0.3862\n",
            "Epoch 29/100\n",
            "\u001b[1m400/400\u001b[0m \u001b[32m━━━━━━━━━━━━━━━━━━━━\u001b[0m\u001b[37m\u001b[0m \u001b[1m20s\u001b[0m 26ms/step - accuracy: 0.8620 - loss: 0.3883 - val_accuracy: 0.8726 - val_loss: 0.3776\n",
            "Epoch 30/100\n",
            "\u001b[1m400/400\u001b[0m \u001b[32m━━━━━━━━━━━━━━━━━━━━\u001b[0m\u001b[37m\u001b[0m \u001b[1m21s\u001b[0m 28ms/step - accuracy: 0.8636 - loss: 0.3817 - val_accuracy: 0.8681 - val_loss: 0.3792\n",
            "Epoch 31/100\n",
            "\u001b[1m400/400\u001b[0m \u001b[32m━━━━━━━━━━━━━━━━━━━━\u001b[0m\u001b[37m\u001b[0m \u001b[1m21s\u001b[0m 28ms/step - accuracy: 0.8658 - loss: 0.3793 - val_accuracy: 0.8657 - val_loss: 0.3893\n",
            "Epoch 32/100\n",
            "\u001b[1m400/400\u001b[0m \u001b[32m━━━━━━━━━━━━━━━━━━━━\u001b[0m\u001b[37m\u001b[0m \u001b[1m11s\u001b[0m 28ms/step - accuracy: 0.8626 - loss: 0.3946 - val_accuracy: 0.8702 - val_loss: 0.3967\n",
            "Epoch 33/100\n",
            "\u001b[1m400/400\u001b[0m \u001b[32m━━━━━━━━━━━━━━━━━━━━\u001b[0m\u001b[37m\u001b[0m \u001b[1m20s\u001b[0m 26ms/step - accuracy: 0.8653 - loss: 0.3842 - val_accuracy: 0.8755 - val_loss: 0.3628\n",
            "Epoch 34/100\n",
            "\u001b[1m400/400\u001b[0m \u001b[32m━━━━━━━━━━━━━━━━━━━━\u001b[0m\u001b[37m\u001b[0m \u001b[1m21s\u001b[0m 27ms/step - accuracy: 0.8665 - loss: 0.3746 - val_accuracy: 0.8740 - val_loss: 0.3677\n",
            "Epoch 35/100\n",
            "\u001b[1m400/400\u001b[0m \u001b[32m━━━━━━━━━━━━━━━━━━━━\u001b[0m\u001b[37m\u001b[0m \u001b[1m20s\u001b[0m 27ms/step - accuracy: 0.8675 - loss: 0.3711 - val_accuracy: 0.8715 - val_loss: 0.3714\n",
            "Epoch 36/100\n",
            "\u001b[1m400/400\u001b[0m \u001b[32m━━━━━━━━━━━━━━━━━━━━\u001b[0m\u001b[37m\u001b[0m \u001b[1m21s\u001b[0m 27ms/step - accuracy: 0.8646 - loss: 0.3755 - val_accuracy: 0.8688 - val_loss: 0.3699\n",
            "Epoch 37/100\n",
            "\u001b[1m400/400\u001b[0m \u001b[32m━━━━━━━━━━━━━━━━━━━━\u001b[0m\u001b[37m\u001b[0m \u001b[1m21s\u001b[0m 29ms/step - accuracy: 0.8652 - loss: 0.3856 - val_accuracy: 0.8712 - val_loss: 0.3660\n",
            "Epoch 38/100\n",
            "\u001b[1m400/400\u001b[0m \u001b[32m━━━━━━━━━━━━━━━━━━━━\u001b[0m\u001b[37m\u001b[0m \u001b[1m19s\u001b[0m 24ms/step - accuracy: 0.8666 - loss: 0.3789 - val_accuracy: 0.8679 - val_loss: 0.3784\n",
            "Epoch 39/100\n",
            "\u001b[1m400/400\u001b[0m \u001b[32m━━━━━━━━━━━━━━━━━━━━\u001b[0m\u001b[37m\u001b[0m \u001b[1m11s\u001b[0m 25ms/step - accuracy: 0.8704 - loss: 0.3644 - val_accuracy: 0.8735 - val_loss: 0.3992\n",
            "Epoch 40/100\n",
            "\u001b[1m400/400\u001b[0m \u001b[32m━━━━━━━━━━━━━━━━━━━━\u001b[0m\u001b[37m\u001b[0m \u001b[1m11s\u001b[0m 28ms/step - accuracy: 0.8698 - loss: 0.3679 - val_accuracy: 0.8729 - val_loss: 0.3702\n",
            "Epoch 41/100\n",
            "\u001b[1m400/400\u001b[0m \u001b[32m━━━━━━━━━━━━━━━━━━━━\u001b[0m\u001b[37m\u001b[0m \u001b[1m18s\u001b[0m 23ms/step - accuracy: 0.8744 - loss: 0.3618 - val_accuracy: 0.8600 - val_loss: 0.3894\n",
            "Epoch 42/100\n",
            "\u001b[1m400/400\u001b[0m \u001b[32m━━━━━━━━━━━━━━━━━━━━\u001b[0m\u001b[37m\u001b[0m \u001b[1m12s\u001b[0m 27ms/step - accuracy: 0.8761 - loss: 0.3581 - val_accuracy: 0.8698 - val_loss: 0.3749\n",
            "Epoch 43/100\n",
            "\u001b[1m400/400\u001b[0m \u001b[32m━━━━━━━━━━━━━━━━━━━━\u001b[0m\u001b[37m\u001b[0m \u001b[1m21s\u001b[0m 28ms/step - accuracy: 0.8750 - loss: 0.3552 - val_accuracy: 0.8761 - val_loss: 0.3734\n",
            "Epoch 44/100\n",
            "\u001b[1m400/400\u001b[0m \u001b[32m━━━━━━━━━━━━━━━━━━━━\u001b[0m\u001b[37m\u001b[0m \u001b[1m21s\u001b[0m 28ms/step - accuracy: 0.8724 - loss: 0.3558 - val_accuracy: 0.8712 - val_loss: 0.3759\n",
            "Epoch 45/100\n",
            "\u001b[1m400/400\u001b[0m \u001b[32m━━━━━━━━━━━━━━━━━━━━\u001b[0m\u001b[37m\u001b[0m \u001b[1m19s\u001b[0m 25ms/step - accuracy: 0.8756 - loss: 0.3514 - val_accuracy: 0.8756 - val_loss: 0.3663\n",
            "Epoch 46/100\n",
            "\u001b[1m400/400\u001b[0m \u001b[32m━━━━━━━━━━━━━━━━━━━━\u001b[0m\u001b[37m\u001b[0m \u001b[1m11s\u001b[0m 26ms/step - accuracy: 0.8723 - loss: 0.3569 - val_accuracy: 0.8771 - val_loss: 0.3760\n",
            "Epoch 47/100\n",
            "\u001b[1m400/400\u001b[0m \u001b[32m━━━━━━━━━━━━━━━━━━━━\u001b[0m\u001b[37m\u001b[0m \u001b[1m22s\u001b[0m 29ms/step - accuracy: 0.8771 - loss: 0.3494 - val_accuracy: 0.8678 - val_loss: 0.3840\n",
            "Epoch 48/100\n",
            "\u001b[1m400/400\u001b[0m \u001b[32m━━━━━━━━━━━━━━━━━━━━\u001b[0m\u001b[37m\u001b[0m \u001b[1m20s\u001b[0m 28ms/step - accuracy: 0.8676 - loss: 0.3681 - val_accuracy: 0.8731 - val_loss: 0.3844\n",
            "Epoch 49/100\n",
            "\u001b[1m400/400\u001b[0m \u001b[32m━━━━━━━━━━━━━━━━━━━━\u001b[0m\u001b[37m\u001b[0m \u001b[1m20s\u001b[0m 27ms/step - accuracy: 0.8690 - loss: 0.3611 - val_accuracy: 0.8779 - val_loss: 0.3899\n",
            "Epoch 50/100\n",
            "\u001b[1m400/400\u001b[0m \u001b[32m━━━━━━━━━━━━━━━━━━━━\u001b[0m\u001b[37m\u001b[0m \u001b[1m21s\u001b[0m 28ms/step - accuracy: 0.8720 - loss: 0.3568 - val_accuracy: 0.8765 - val_loss: 0.3681\n",
            "Epoch 51/100\n",
            "\u001b[1m400/400\u001b[0m \u001b[32m━━━━━━━━━━━━━━━━━━━━\u001b[0m\u001b[37m\u001b[0m \u001b[1m11s\u001b[0m 29ms/step - accuracy: 0.8726 - loss: 0.3643 - val_accuracy: 0.8770 - val_loss: 0.3617\n",
            "Epoch 52/100\n",
            "\u001b[1m400/400\u001b[0m \u001b[32m━━━━━━━━━━━━━━━━━━━━\u001b[0m\u001b[37m\u001b[0m \u001b[1m20s\u001b[0m 28ms/step - accuracy: 0.8812 - loss: 0.3364 - val_accuracy: 0.8792 - val_loss: 0.3650\n",
            "Epoch 53/100\n",
            "\u001b[1m400/400\u001b[0m \u001b[32m━━━━━━━━━━━━━━━━━━━━\u001b[0m\u001b[37m\u001b[0m \u001b[1m19s\u001b[0m 26ms/step - accuracy: 0.8775 - loss: 0.3462 - val_accuracy: 0.8769 - val_loss: 0.3775\n",
            "Epoch 54/100\n",
            "\u001b[1m400/400\u001b[0m \u001b[32m━━━━━━━━━━━━━━━━━━━━\u001b[0m\u001b[37m\u001b[0m \u001b[1m21s\u001b[0m 28ms/step - accuracy: 0.8759 - loss: 0.3504 - val_accuracy: 0.8716 - val_loss: 0.3954\n",
            "Epoch 55/100\n",
            "\u001b[1m400/400\u001b[0m \u001b[32m━━━━━━━━━━━━━━━━━━━━\u001b[0m\u001b[37m\u001b[0m \u001b[1m19s\u001b[0m 24ms/step - accuracy: 0.8702 - loss: 0.3658 - val_accuracy: 0.8705 - val_loss: 0.3880\n",
            "Epoch 56/100\n",
            "\u001b[1m400/400\u001b[0m \u001b[32m━━━━━━━━━━━━━━━━━━━━\u001b[0m\u001b[37m\u001b[0m \u001b[1m14s\u001b[0m 32ms/step - accuracy: 0.8768 - loss: 0.3506 - val_accuracy: 0.8800 - val_loss: 0.3728\n",
            "Epoch 57/100\n",
            "\u001b[1m400/400\u001b[0m \u001b[32m━━━━━━━━━━━━━━━━━━━━\u001b[0m\u001b[37m\u001b[0m \u001b[1m19s\u001b[0m 28ms/step - accuracy: 0.8786 - loss: 0.3422 - val_accuracy: 0.8770 - val_loss: 0.3674\n",
            "Epoch 58/100\n",
            "\u001b[1m400/400\u001b[0m \u001b[32m━━━━━━━━━━━━━━━━━━━━\u001b[0m\u001b[37m\u001b[0m \u001b[1m21s\u001b[0m 28ms/step - accuracy: 0.8735 - loss: 0.3478 - val_accuracy: 0.8779 - val_loss: 0.3755\n",
            "Epoch 59/100\n",
            "\u001b[1m400/400\u001b[0m \u001b[32m━━━━━━━━━━━━━━━━━━━━\u001b[0m\u001b[37m\u001b[0m \u001b[1m11s\u001b[0m 27ms/step - accuracy: 0.8818 - loss: 0.3398 - val_accuracy: 0.8823 - val_loss: 0.3673\n",
            "Epoch 60/100\n",
            "\u001b[1m400/400\u001b[0m \u001b[32m━━━━━━━━━━━━━━━━━━━━\u001b[0m\u001b[37m\u001b[0m \u001b[1m20s\u001b[0m 25ms/step - accuracy: 0.8799 - loss: 0.3380 - val_accuracy: 0.8739 - val_loss: 0.3755\n",
            "Epoch 61/100\n",
            "\u001b[1m400/400\u001b[0m \u001b[32m━━━━━━━━━━━━━━━━━━━━\u001b[0m\u001b[37m\u001b[0m \u001b[1m11s\u001b[0m 28ms/step - accuracy: 0.8779 - loss: 0.3524 - val_accuracy: 0.8817 - val_loss: 0.3846\n",
            "Epoch 62/100\n",
            "\u001b[1m400/400\u001b[0m \u001b[32m━━━━━━━━━━━━━━━━━━━━\u001b[0m\u001b[37m\u001b[0m \u001b[1m11s\u001b[0m 28ms/step - accuracy: 0.8783 - loss: 0.3510 - val_accuracy: 0.8806 - val_loss: 0.3761\n",
            "Epoch 63/100\n",
            "\u001b[1m400/400\u001b[0m \u001b[32m━━━━━━━━━━━━━━━━━━━━\u001b[0m\u001b[37m\u001b[0m \u001b[1m21s\u001b[0m 28ms/step - accuracy: 0.8797 - loss: 0.3414 - val_accuracy: 0.8803 - val_loss: 0.3694\n",
            "Epoch 64/100\n",
            "\u001b[1m400/400\u001b[0m \u001b[32m━━━━━━━━━━━━━━━━━━━━\u001b[0m\u001b[37m\u001b[0m \u001b[1m19s\u001b[0m 25ms/step - accuracy: 0.8850 - loss: 0.3296 - val_accuracy: 0.8766 - val_loss: 0.3798\n",
            "Epoch 65/100\n",
            "\u001b[1m400/400\u001b[0m \u001b[32m━━━━━━━━━━━━━━━━━━━━\u001b[0m\u001b[37m\u001b[0m \u001b[1m10s\u001b[0m 24ms/step - accuracy: 0.8834 - loss: 0.3320 - val_accuracy: 0.8750 - val_loss: 0.3697\n",
            "Epoch 66/100\n",
            "\u001b[1m400/400\u001b[0m \u001b[32m━━━━━━━━━━━━━━━━━━━━\u001b[0m\u001b[37m\u001b[0m \u001b[1m11s\u001b[0m 27ms/step - accuracy: 0.8787 - loss: 0.3481 - val_accuracy: 0.8712 - val_loss: 0.3880\n",
            "Epoch 67/100\n",
            "\u001b[1m400/400\u001b[0m \u001b[32m━━━━━━━━━━━━━━━━━━━━\u001b[0m\u001b[37m\u001b[0m \u001b[1m19s\u001b[0m 24ms/step - accuracy: 0.8731 - loss: 0.3602 - val_accuracy: 0.8766 - val_loss: 0.3815\n",
            "Epoch 68/100\n",
            "\u001b[1m400/400\u001b[0m \u001b[32m━━━━━━━━━━━━━━━━━━━━\u001b[0m\u001b[37m\u001b[0m \u001b[1m10s\u001b[0m 25ms/step - accuracy: 0.8783 - loss: 0.3375 - val_accuracy: 0.8698 - val_loss: 0.3908\n",
            "Epoch 69/100\n",
            "\u001b[1m400/400\u001b[0m \u001b[32m━━━━━━━━━━━━━━━━━━━━\u001b[0m\u001b[37m\u001b[0m \u001b[1m11s\u001b[0m 27ms/step - accuracy: 0.8697 - loss: 0.3647 - val_accuracy: 0.8683 - val_loss: 0.3948\n",
            "Epoch 70/100\n",
            "\u001b[1m400/400\u001b[0m \u001b[32m━━━━━━━━━━━━━━━━━━━━\u001b[0m\u001b[37m\u001b[0m \u001b[1m11s\u001b[0m 27ms/step - accuracy: 0.8751 - loss: 0.3470 - val_accuracy: 0.8765 - val_loss: 0.3851\n",
            "Epoch 71/100\n",
            "\u001b[1m400/400\u001b[0m \u001b[32m━━━━━━━━━━━━━━━━━━━━\u001b[0m\u001b[37m\u001b[0m \u001b[1m21s\u001b[0m 28ms/step - accuracy: 0.8794 - loss: 0.3376 - val_accuracy: 0.8743 - val_loss: 0.3786\n",
            "Epoch 72/100\n",
            "\u001b[1m400/400\u001b[0m \u001b[32m━━━━━━━━━━━━━━━━━━━━\u001b[0m\u001b[37m\u001b[0m \u001b[1m19s\u001b[0m 24ms/step - accuracy: 0.8782 - loss: 0.3409 - val_accuracy: 0.8780 - val_loss: 0.3913\n",
            "Epoch 73/100\n",
            "\u001b[1m400/400\u001b[0m \u001b[32m━━━━━━━━━━━━━━━━━━━━\u001b[0m\u001b[37m\u001b[0m \u001b[1m10s\u001b[0m 25ms/step - accuracy: 0.8791 - loss: 0.3367 - val_accuracy: 0.8734 - val_loss: 0.3978\n",
            "Epoch 74/100\n",
            "\u001b[1m400/400\u001b[0m \u001b[32m━━━━━━━━━━━━━━━━━━━━\u001b[0m\u001b[37m\u001b[0m \u001b[1m11s\u001b[0m 28ms/step - accuracy: 0.8787 - loss: 0.3378 - val_accuracy: 0.8768 - val_loss: 0.3934\n",
            "Epoch 75/100\n",
            "\u001b[1m400/400\u001b[0m \u001b[32m━━━━━━━━━━━━━━━━━━━━\u001b[0m\u001b[37m\u001b[0m \u001b[1m19s\u001b[0m 24ms/step - accuracy: 0.8766 - loss: 0.3562 - val_accuracy: 0.8758 - val_loss: 0.4049\n",
            "Epoch 76/100\n",
            "\u001b[1m400/400\u001b[0m \u001b[32m━━━━━━━━━━━━━━━━━━━━\u001b[0m\u001b[37m\u001b[0m \u001b[1m12s\u001b[0m 29ms/step - accuracy: 0.8787 - loss: 0.3433 - val_accuracy: 0.8718 - val_loss: 0.4113\n",
            "Epoch 77/100\n",
            "\u001b[1m400/400\u001b[0m \u001b[32m━━━━━━━━━━━━━━━━━━━━\u001b[0m\u001b[37m\u001b[0m \u001b[1m12s\u001b[0m 29ms/step - accuracy: 0.8677 - loss: 0.3800 - val_accuracy: 0.8738 - val_loss: 0.3814\n",
            "Epoch 78/100\n",
            "\u001b[1m400/400\u001b[0m \u001b[32m━━━━━━━━━━━━━━━━━━━━\u001b[0m\u001b[37m\u001b[0m \u001b[1m21s\u001b[0m 29ms/step - accuracy: 0.8720 - loss: 0.3540 - val_accuracy: 0.8805 - val_loss: 0.3856\n",
            "Epoch 79/100\n",
            "\u001b[1m400/400\u001b[0m \u001b[32m━━━━━━━━━━━━━━━━━━━━\u001b[0m\u001b[37m\u001b[0m \u001b[1m20s\u001b[0m 29ms/step - accuracy: 0.8836 - loss: 0.3365 - val_accuracy: 0.8756 - val_loss: 0.4011\n",
            "Epoch 80/100\n",
            "\u001b[1m400/400\u001b[0m \u001b[32m━━━━━━━━━━━━━━━━━━━━\u001b[0m\u001b[37m\u001b[0m \u001b[1m10s\u001b[0m 26ms/step - accuracy: 0.8804 - loss: 0.3309 - val_accuracy: 0.8836 - val_loss: 0.4139\n",
            "Epoch 81/100\n",
            "\u001b[1m400/400\u001b[0m \u001b[32m━━━━━━━━━━━━━━━━━━━━\u001b[0m\u001b[37m\u001b[0m \u001b[1m22s\u001b[0m 29ms/step - accuracy: 0.8832 - loss: 0.3347 - val_accuracy: 0.8822 - val_loss: 0.3942\n",
            "Epoch 82/100\n",
            "\u001b[1m400/400\u001b[0m \u001b[32m━━━━━━━━━━━━━━━━━━━━\u001b[0m\u001b[37m\u001b[0m \u001b[1m21s\u001b[0m 30ms/step - accuracy: 0.8824 - loss: 0.3385 - val_accuracy: 0.8766 - val_loss: 0.3995\n",
            "Epoch 83/100\n",
            "\u001b[1m400/400\u001b[0m \u001b[32m━━━━━━━━━━━━━━━━━━━━\u001b[0m\u001b[37m\u001b[0m \u001b[1m12s\u001b[0m 30ms/step - accuracy: 0.8824 - loss: 0.3313 - val_accuracy: 0.8740 - val_loss: 0.4271\n",
            "Epoch 84/100\n",
            "\u001b[1m400/400\u001b[0m \u001b[32m━━━━━━━━━━━━━━━━━━━━\u001b[0m\u001b[37m\u001b[0m \u001b[1m12s\u001b[0m 29ms/step - accuracy: 0.8767 - loss: 0.3478 - val_accuracy: 0.8733 - val_loss: 0.4006\n",
            "Epoch 85/100\n",
            "\u001b[1m400/400\u001b[0m \u001b[32m━━━━━━━━━━━━━━━━━━━━\u001b[0m\u001b[37m\u001b[0m \u001b[1m11s\u001b[0m 27ms/step - accuracy: 0.8806 - loss: 0.3341 - val_accuracy: 0.8773 - val_loss: 0.3796\n",
            "Epoch 86/100\n",
            "\u001b[1m400/400\u001b[0m \u001b[32m━━━━━━━━━━━━━━━━━━━━\u001b[0m\u001b[37m\u001b[0m \u001b[1m11s\u001b[0m 28ms/step - accuracy: 0.8792 - loss: 0.3460 - val_accuracy: 0.8779 - val_loss: 0.3971\n",
            "Epoch 87/100\n",
            "\u001b[1m400/400\u001b[0m \u001b[32m━━━━━━━━━━━━━━━━━━━━\u001b[0m\u001b[37m\u001b[0m \u001b[1m21s\u001b[0m 30ms/step - accuracy: 0.8742 - loss: 0.3516 - val_accuracy: 0.8763 - val_loss: 0.3882\n",
            "Epoch 88/100\n",
            "\u001b[1m400/400\u001b[0m \u001b[32m━━━━━━━━━━━━━━━━━━━━\u001b[0m\u001b[37m\u001b[0m \u001b[1m10s\u001b[0m 25ms/step - accuracy: 0.8732 - loss: 0.3505 - val_accuracy: 0.8719 - val_loss: 0.3888\n",
            "Epoch 89/100\n",
            "\u001b[1m400/400\u001b[0m \u001b[32m━━━━━━━━━━━━━━━━━━━━\u001b[0m\u001b[37m\u001b[0m \u001b[1m12s\u001b[0m 29ms/step - accuracy: 0.8760 - loss: 0.3526 - val_accuracy: 0.8825 - val_loss: 0.3850\n",
            "Epoch 90/100\n",
            "\u001b[1m400/400\u001b[0m \u001b[32m━━━━━━━━━━━━━━━━━━━━\u001b[0m\u001b[37m\u001b[0m \u001b[1m20s\u001b[0m 29ms/step - accuracy: 0.8793 - loss: 0.3362 - val_accuracy: 0.8681 - val_loss: 0.3927\n",
            "Epoch 91/100\n",
            "\u001b[1m400/400\u001b[0m \u001b[32m━━━━━━━━━━━━━━━━━━━━\u001b[0m\u001b[37m\u001b[0m \u001b[1m10s\u001b[0m 26ms/step - accuracy: 0.8753 - loss: 0.3531 - val_accuracy: 0.8748 - val_loss: 0.4113\n",
            "Epoch 92/100\n",
            "\u001b[1m400/400\u001b[0m \u001b[32m━━━━━━━━━━━━━━━━━━━━\u001b[0m\u001b[37m\u001b[0m \u001b[1m22s\u001b[0m 30ms/step - accuracy: 0.8791 - loss: 0.3459 - val_accuracy: 0.8747 - val_loss: 0.4041\n",
            "Epoch 93/100\n",
            "\u001b[1m400/400\u001b[0m \u001b[32m━━━━━━━━━━━━━━━━━━━━\u001b[0m\u001b[37m\u001b[0m \u001b[1m20s\u001b[0m 28ms/step - accuracy: 0.8730 - loss: 0.3470 - val_accuracy: 0.8746 - val_loss: 0.4235\n",
            "Epoch 94/100\n",
            "\u001b[1m400/400\u001b[0m \u001b[32m━━━━━━━━━━━━━━━━━━━━\u001b[0m\u001b[37m\u001b[0m \u001b[1m21s\u001b[0m 29ms/step - accuracy: 0.8780 - loss: 0.3367 - val_accuracy: 0.8798 - val_loss: 0.4090\n",
            "Epoch 95/100\n",
            "\u001b[1m400/400\u001b[0m \u001b[32m━━━━━━━━━━━━━━━━━━━━\u001b[0m\u001b[37m\u001b[0m \u001b[1m20s\u001b[0m 29ms/step - accuracy: 0.8759 - loss: 0.3518 - val_accuracy: 0.8725 - val_loss: 0.4260\n",
            "Epoch 96/100\n",
            "\u001b[1m400/400\u001b[0m \u001b[32m━━━━━━━━━━━━━━━━━━━━\u001b[0m\u001b[37m\u001b[0m \u001b[1m19s\u001b[0m 25ms/step - accuracy: 0.8747 - loss: 0.3619 - val_accuracy: 0.8788 - val_loss: 0.4123\n",
            "Epoch 97/100\n",
            "\u001b[1m400/400\u001b[0m \u001b[32m━━━━━━━━━━━━━━━━━━━━\u001b[0m\u001b[37m\u001b[0m \u001b[1m11s\u001b[0m 28ms/step - accuracy: 0.8773 - loss: 0.3447 - val_accuracy: 0.8698 - val_loss: 0.4154\n",
            "Epoch 98/100\n",
            "\u001b[1m400/400\u001b[0m \u001b[32m━━━━━━━━━━━━━━━━━━━━\u001b[0m\u001b[37m\u001b[0m \u001b[1m21s\u001b[0m 30ms/step - accuracy: 0.8716 - loss: 0.3535 - val_accuracy: 0.8758 - val_loss: 0.4204\n",
            "Epoch 99/100\n",
            "\u001b[1m400/400\u001b[0m \u001b[32m━━━━━━━━━━━━━━━━━━━━\u001b[0m\u001b[37m\u001b[0m \u001b[1m10s\u001b[0m 25ms/step - accuracy: 0.8772 - loss: 0.3502 - val_accuracy: 0.8754 - val_loss: 0.4426\n",
            "Epoch 100/100\n",
            "\u001b[1m400/400\u001b[0m \u001b[32m━━━━━━━━━━━━━━━━━━━━\u001b[0m\u001b[37m\u001b[0m \u001b[1m12s\u001b[0m 30ms/step - accuracy: 0.8757 - loss: 0.3415 - val_accuracy: 0.8765 - val_loss: 0.4411\n"
          ]
        }
      ]
    },
    {
      "cell_type": "code",
      "source": [
        "plt.plot(hist.history['accuracy'])\n",
        "plt.plot(hist.history['val_accuracy'])\n",
        "plt.title('Model Accuracy')\n",
        "plt.ylabel('Accuracy')\n",
        "plt.xlabel('Epochs')\n",
        "plt.legend(['train','validation'],loc = 'upper right')"
      ],
      "metadata": {
        "id": "lPcYoO4WRKq9",
        "outputId": "1ab2d5a7-75ff-4158-dde6-c1c41e28fe22",
        "colab": {
          "base_uri": "https://localhost:8080/",
          "height": 490
        }
      },
      "execution_count": 38,
      "outputs": [
        {
          "output_type": "execute_result",
          "data": {
            "text/plain": [
              "<matplotlib.legend.Legend at 0x7cacf43c2560>"
            ]
          },
          "metadata": {},
          "execution_count": 38
        },
        {
          "output_type": "display_data",
          "data": {
            "text/plain": [
              "<Figure size 640x480 with 1 Axes>"
            ],
            "image/png": "[encoded data removed]"
          },
          "metadata": {}
        }
      ]
    },
    {
      "cell_type": "code",
      "source": [
        "plt.plot(hist.history['loss'])\n",
        "plt.plot(hist.history['val_loss'])\n",
        "plt.title('Model Loss')\n",
        "plt.ylabel('Loss')\n",
        "plt.xlabel('Epochs')\n",
        "plt.legend(['train','validation'],loc = 'upper left')"
      ],
      "metadata": {
        "id": "iO-rImOQRPQx",
        "outputId": "db20e9bc-b697-47c3-bf08-c8967a90aca8",
        "colab": {
          "base_uri": "https://localhost:8080/",
          "height": 490
        }
      },
      "execution_count": 39,
      "outputs": [
        {
          "output_type": "execute_result",
          "data": {
            "text/plain": [
              "<matplotlib.legend.Legend at 0x7cacf43dc040>"
            ]
          },
          "metadata": {},
          "execution_count": 39
        },
        {
          "output_type": "display_data",
          "data": {
            "text/plain": [
              "<Figure size 640x480 with 1 Axes>"
            ],
            "image/png": "[encoded data removed]"
          },
          "metadata": {}
        }
      ]
    },
    {
      "cell_type": "code",
      "source": [
        "y_hat_train_dense = np.argmax(model.predict(x_train),axis = 1)\n",
        "y_hat_test_dense = np.argmax(model.predict(x_test) , axis = 1)"
      ],
      "metadata": {
        "id": "LL1-z7wxRSTY",
        "outputId": "8f75bdb9-157c-4ea8-9e7b-0c808fd0ce54",
        "colab": {
          "base_uri": "https://localhost:8080/"
        }
      },
      "execution_count": 40,
      "outputs": [
        {
          "output_type": "stream",
          "name": "stdout",
          "text": [
            "\u001b[1m1500/1500\u001b[0m \u001b[32m━━━━━━━━━━━━━━━━━━━━\u001b[0m\u001b[37m\u001b[0m \u001b[1m6s\u001b[0m 4ms/step\n",
            "\u001b[1m375/375\u001b[0m \u001b[32m━━━━━━━━━━━━━━━━━━━━\u001b[0m\u001b[37m\u001b[0m \u001b[1m2s\u001b[0m 6ms/step\n"
          ]
        }
      ]
    },
    {
      "cell_type": "code",
      "source": [
        "model_eval(y_train,y_hat_train_dense)"
      ],
      "metadata": {
        "id": "sVx9_i20RVsT",
        "outputId": "9981544e-b8c7-4d0d-a978-99cd18ea1d06",
        "colab": {
          "base_uri": "https://localhost:8080/"
        }
      },
      "execution_count": 41,
      "outputs": [
        {
          "output_type": "stream",
          "name": "stdout",
          "text": [
            "0.9\n",
            "              precision    recall  f1-score   support\n",
            "\n",
            "           0       0.85      0.87      0.86      4860\n",
            "           1       0.99      0.99      0.99      4759\n",
            "           2       0.76      0.86      0.81      4788\n",
            "           3       0.93      0.91      0.92      4851\n",
            "           4       0.78      0.81      0.80      4850\n",
            "           5       0.99      1.00      0.99      4776\n",
            "           6       0.78      0.65      0.71      4792\n",
            "           7       0.98      0.99      0.98      4773\n",
            "           8       0.99      0.98      0.99      4776\n",
            "           9       0.99      0.97      0.98      4775\n",
            "\n",
            "    accuracy                           0.90     48000\n",
            "   macro avg       0.90      0.90      0.90     48000\n",
            "weighted avg       0.90      0.90      0.90     48000\n",
            "\n",
            "[[4236    4   74  159   11    0  367    0    9    0]\n",
            " [   2 4718    5   27    5    0    1    0    1    0]\n",
            " [  50    0 4131   15  448    0  140    0    4    0]\n",
            " [  46   27   31 4397  306    0   42    0    2    0]\n",
            " [   5    4  567   41 3926    0  305    0    2    0]\n",
            " [   0    0    0    0    0 4771    0    3    0    2]\n",
            " [ 663    2  613   74  305    0 3120    0   15    0]\n",
            " [   0    0    0    0    0    8    0 4720    0   45]\n",
            " [   1    0   33    7   13    0   20    2 4697    3]\n",
            " [   0    0    0    0    0   45    0  115    0 4615]]\n"
          ]
        }
      ]
    },
    {
      "cell_type": "code",
      "source": [
        "model_eval(y_test,y_hat_test_dense)"
      ],
      "metadata": {
        "id": "zQyMqVNjRXzn",
        "outputId": "51e227d5-2f62-4cc8-c35c-b1a858767e17",
        "colab": {
          "base_uri": "https://localhost:8080/"
        }
      },
      "execution_count": 42,
      "outputs": [
        {
          "output_type": "stream",
          "name": "stdout",
          "text": [
            "0.88\n",
            "              precision    recall  f1-score   support\n",
            "\n",
            "           0       0.81      0.84      0.82      1140\n",
            "           1       0.98      0.98      0.98      1241\n",
            "           2       0.74      0.82      0.78      1212\n",
            "           3       0.90      0.85      0.87      1149\n",
            "           4       0.73      0.78      0.76      1150\n",
            "           5       0.96      0.98      0.97      1224\n",
            "           6       0.74      0.62      0.68      1208\n",
            "           7       0.94      0.96      0.95      1227\n",
            "           8       0.97      0.98      0.98      1224\n",
            "           9       0.97      0.94      0.96      1225\n",
            "\n",
            "    accuracy                           0.88     12000\n",
            "   macro avg       0.88      0.87      0.87     12000\n",
            "weighted avg       0.88      0.88      0.88     12000\n",
            "\n",
            "[[ 956    3   28   44    6    2   97    0    4    0]\n",
            " [   1 1218    4   15    1    0    1    0    1    0]\n",
            " [  10    0  991   12  138    0   60    0    1    0]\n",
            " [  31   14    9  976  103    0   15    0    1    0]\n",
            " [   4    2  145   17  901    0   78    0    3    0]\n",
            " [   0    0    0    0    0 1201    1   16    4    2]\n",
            " [ 177    3  158   23   81    0  750    1   15    0]\n",
            " [   0    0    0    0    0   14    0 1184    1   28]\n",
            " [   0    0    8    1    4    3   10    4 1194    0]\n",
            " [   0    0    0    0    0   28    0   49    1 1147]]\n"
          ]
        }
      ]
    }
  ],
  "metadata": {
    "colab": {
      "provenance": [],
      "toc_visible": true
    },
    "kernelspec": {
      "display_name": "Python 3",
      "name": "python3"
    },
    "language_info": {
      "name": "python"
    }
  },
  "nbformat": 4,
  "nbformat_minor": 0
}